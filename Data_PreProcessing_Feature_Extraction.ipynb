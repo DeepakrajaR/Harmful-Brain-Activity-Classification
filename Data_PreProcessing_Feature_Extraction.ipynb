{
 "cells": [
  {
   "cell_type": "markdown",
   "id": "191d60dc-f766-4a74-8ad6-8bb9256e917a",
   "metadata": {},
   "source": [
    "# Harmful Brain Activity Detection"
   ]
  },
  {
   "cell_type": "code",
   "execution_count": 1,
   "id": "e9578ef3-d4d7-4120-ba79-c8e2cfb3ba82",
   "metadata": {},
   "outputs": [],
   "source": [
    "import dask\n",
    "import os\n",
    "import pandas as pd\n",
    "import scipy\n",
    "from scipy.signal import butter, lfilter\n",
    "from scipy import signal\n",
    "from matplotlib import pyplot as plt \n",
    "import multiprocessing as mp\n",
    "import numpy as np\n",
    "import time\n",
    "from dask.distributed import Client\n",
    "import dask.bag as db\n",
    "from sklearn.model_selection import train_test_split\n",
    "import shutil\n",
    "import time\n",
    "import warnings\n",
    "from scipy.signal import stft"
   ]
  },
  {
   "cell_type": "code",
   "execution_count": 2,
   "id": "4ea8e806",
   "metadata": {},
   "outputs": [],
   "source": [
    "num_cpus = 24"
   ]
  },
  {
   "cell_type": "code",
   "execution_count": 3,
   "id": "83831dfa-2daf-4e48-9947-0fce0655b442",
   "metadata": {},
   "outputs": [],
   "source": [
    "train_eeg_path = \"/scratch/kunigalharish.a/hms-brain-activity-classification/dataset/train_eegs/\"\n",
    "train_csv_path = \"/scratch/kunigalharish.a/hms-brain-activity-classification/dataset/train.csv\""
   ]
  },
  {
   "cell_type": "code",
   "execution_count": 4,
   "id": "0f137938-de15-4fdf-abea-4eb19cc5d70a",
   "metadata": {},
   "outputs": [],
   "source": [
    "df_train = pd.read_csv(train_csv_path)"
   ]
  },
  {
   "cell_type": "code",
   "execution_count": 5,
   "id": "138959a2-bbc7-4f26-bef4-123d2299f3f6",
   "metadata": {},
   "outputs": [],
   "source": [
    "# create class folders inside dataset folder\n",
    "\n",
    "for c in df_train['expert_consensus'].unique():\n",
    "    if not os.path.isdir(\"dataset_24/\"+str(c)):\n",
    "        os.makedirs(\"dataset_24/\"+str(c))\n",
    "        "
   ]
  },
  {
   "cell_type": "code",
   "execution_count": 6,
   "id": "9add5440-dcdb-4b3a-9efe-902bc71d65a3",
   "metadata": {},
   "outputs": [],
   "source": [
    "# Function to read eeg and spectrogram data\n",
    "def read_file(folder):\n",
    "    files = [os.path.join(folder, file) for file in os.listdir(folder)]\n",
    "    return files"
   ]
  },
  {
   "cell_type": "markdown",
   "id": "6a896ef1-e9e2-44eb-8a80-aa90f0df3972",
   "metadata": {},
   "source": [
    "## Data Pre-Processing\n",
    "\n",
    "### Noise Removal - Band Pass Filter\n"
   ]
  },
  {
   "cell_type": "code",
   "execution_count": 7,
   "id": "a7a258d0-ef82-4c53-b00f-dd9db0a469e1",
   "metadata": {},
   "outputs": [],
   "source": [
    "## Preprossing improved\n",
    "\n",
    "def find_eeg(eeg_files_copy, group):\n",
    "    \n",
    "    for eeg in eeg_files_copy:\n",
    "        # get eeg id\n",
    "        _id = int(eeg.split(\"/\")[-1].split(\".\")[0])\n",
    "        \n",
    "        if _id == group:\n",
    "            # print(eeg)\n",
    "            return eeg\n",
    "        \n",
    "\n",
    "# Get offsets for a particular eeg subsample from the consolidated eeg\n",
    "def get_offset(eeg_id):\n",
    "    \"\"\"\n",
    "    Func : Get offsets of a particular consildated eeg to retrieve\n",
    "    every 50 second subsample from the  consolidated eeg data\n",
    "    \n",
    "    params: EEG data id\n",
    "    \n",
    "    return: list of offsets for a consolidated eeg dataframe, list of classes\n",
    "    \n",
    "    \"\"\"\n",
    "    global df_train\n",
    "    \n",
    "    _offsets = df_train[(df_train['eeg_id']==eeg_id)]['eeg_label_offset_seconds'].tolist()\n",
    "    \n",
    "    _class = df_train[(df_train['eeg_id']==eeg_id)]['expert_consensus'].tolist()\n",
    "    \n",
    "    return _offsets, _class\n",
    "\n",
    "# Get subsample based on offset from eeg data\n",
    "def Extract_Subsample(eeg_df, offset):\n",
    "    \"\"\"\n",
    "    Extract subsample from the eeg data based on offset\n",
    "    and return the 50 second long subsample dataframe\n",
    "    \"\"\"\n",
    "    return eeg_df.iloc[offset:offset+50,:-1]\n",
    "    "
   ]
  },
  {
   "cell_type": "code",
   "execution_count": 8,
   "id": "511e2f1b-1d6e-42c0-9bf2-20843e0ab22c",
   "metadata": {},
   "outputs": [],
   "source": [
    "# Function to get Bandpass filter coefficients\n",
    "def get_filter_Coeff(lowcut, highcut, freq, order):\n",
    "    nyq_freq = 0.5 * freq # Nyquist Frequency\n",
    "    low = lowcut / nyq_freq\n",
    "    high = highcut / nyq_freq\n",
    "    b, a = butter(order, [low, high], btype='band')\n",
    "    return b,a\n",
    "\n",
    "\n",
    "# Function to apply the filter \n",
    "def Bandpass_filter(data, lowcut, highcut, freq, order=5):\n",
    "    b,a = get_filter_Coeff(lowcut, highcut, freq, order)\n",
    "    fil_sig = lfilter(b, a, data)\n",
    "    return fil_sig\n",
    "\n",
    "\n",
    "def noise_removal(df_eeg):\n",
    "    \n",
    "    # constants for filter function\n",
    "    lowcut = 0.5\n",
    "    highcut = 20\n",
    "    freq = 200\n",
    "\n",
    "    # filter the eeg sample\n",
    "    filtered_df = df_eeg.apply(lambda x: Bandpass_filter(x, lowcut, highcut, freq, order=5))\n",
    "    \n",
    "    return filtered_df"
   ]
  },
  {
   "cell_type": "markdown",
   "id": "0ec70a7e-de04-4942-a61a-db7ef2e9c0d5",
   "metadata": {},
   "source": [
    "## Feature Extraction\n",
    "\n",
    "### EEG to Spectrogram"
   ]
  },
  {
   "cell_type": "code",
   "execution_count": 9,
   "id": "ff1f51cc-6ed7-4ef2-be61-13582ef9c38d",
   "metadata": {},
   "outputs": [],
   "source": [
    "# Feature Extraction\n",
    "\n",
    "def normalize_array(arr):\n",
    "    min_val = np.min(arr)\n",
    "    max_val = np.max(arr)\n",
    "    norm_arr = (arr - min_val) / (max_val - min_val) * (255 - 1) + 1\n",
    "    return norm_arr\n",
    "\n",
    "\n",
    "def z_score_normalization(data):\n",
    "    mean_val = np.mean(data)\n",
    "    std_dev = np.std(data)\n",
    "    normalized_data = (data - mean_val) / std_dev\n",
    "    return normalized_data\n",
    "\n",
    "\n",
    "# Convert EEG to Spectrogram\n",
    "\n",
    "def EEG_to_Spectrogram(df, path):\n",
    "    \n",
    "    # Normalize the values of the spectrogram array to help in generalization\n",
    "#     spec_df = normalize_array(spec_df)\n",
    "    norm_df = z_score_normalization(df)\n",
    "    \n",
    "    # generate spectrogram from eeg\n",
    "    freqs, t, spec_df = stft(norm_df, 200, nperseg=50*200)\n",
    "#     freqs, t, spec_df = signal.spectrogram(norm_df, fs=200)\n",
    "    \n",
    "    # Use the absolute value to get the magnitude spectrogram\n",
    "    spectrogram = np.abs(spec_df)\n",
    "    \n",
    "#     spectrogram = np.squeeze(spectrogram, axis=-1).T  \n",
    "\n",
    "    # Plot the spectrogram using Matplotlib\n",
    "    plt.imshow(spectrogram, aspect='auto', origin='lower')\n",
    "    # plt.colorbar(label='Power Spectral Density [dB]')\n",
    "    plt.axis('off')\n",
    "    # Save the spectrogram as an image\n",
    "    plt.savefig(f\"{path}.png\")"
   ]
  },
  {
   "cell_type": "code",
   "execution_count": 10,
   "id": "c3f24107-3476-4846-baad-ea45509a5431",
   "metadata": {},
   "outputs": [],
   "source": [
    "\n",
    "def Feature_Extraction(filtered_df, group, off_class):\n",
    "    print(\"Feature Extraction..........................\")\n",
    "    offset, c = off_class\n",
    "    \n",
    "    # extract subsamples from consolidated eeg\n",
    "    df_sub = Extract_Subsample(filtered_df, int(offset))\n",
    "\n",
    "    # Convert eeg to spectrogram\n",
    "    path = \"dataset_24/\"+str(c)+\"/\"+str(group)+\"_\"+str(offset)\n",
    "\n",
    "    EEG_to_Spectrogram(filtered_df, path)\n",
    "    \n",
    "# Function to generate spectrograms for each EEG file\n",
    "def generate_spectrograms_parallel(df_eeg, group, offsets_classes):\n",
    "    print(\"generate spectrograms\")\n",
    "    \n",
    "    # multiprocessing\n",
    "    global num_cpus\n",
    "\n",
    "    print(f\"No of CPUs : {num_cpus}\")\n",
    "    pool = mp.Pool(processes=num_cpus)\n",
    "    \n",
    "    results = pool.starmap(Feature_Extraction, [(df_eeg, group, off_class) for off_class in offsets_classes])\n",
    "    \n",
    "    pool.close()\n",
    "    pool.join()\n",
    "    \n",
    "    return True\n",
    "    "
   ]
  },
  {
   "cell_type": "code",
   "execution_count": 11,
   "id": "a3d4fee6-504c-4ef7-9163-2df73dfca0db",
   "metadata": {},
   "outputs": [],
   "source": [
    "# Main\n",
    "# EEG data frame\n",
    "eeg_files = read_file(train_eeg_path)\n",
    "\n",
    "# Read Spectrogram data\n",
    "# spec_files = read_file(path_spec)\n",
    "\n",
    "eeg_files_copy = eeg_files.copy()\n"
   ]
  },
  {
   "cell_type": "code",
   "execution_count": null,
   "id": "d8d01efe-a340-4561-bfd9-2ed22b42d20f",
   "metadata": {
    "scrolled": true
   },
   "outputs": [
    {
     "name": "stdout",
     "output_type": "stream",
     "text": [
      "r------------- :  1\n",
      "r------------- :  2\n",
      "r------------- :  3\n",
      "r------------- :  4\n",
      "r------------- :  5\n",
      "r------------- :  6\n",
      "r------------- :  7\n",
      "r------------- :  8\n",
      "r------------- :  9\n",
      "generate spectrograms\n",
      "No of CPUs : 24\n",
      "Feature Extraction..........................\n",
      "Feature Extraction..........................Feature Extraction..........................Feature Extraction..........................Feature Extraction..........................Feature Extraction..........................Feature Extraction..........................Feature Extraction..........................Feature Extraction..........................\n",
      "\n",
      "\n",
      "\n",
      "\n",
      "\n",
      "\n",
      "\n"
     ]
    },
    {
     "name": "stderr",
     "output_type": "stream",
     "text": [
      "Clipping input data to the valid range for imshow with RGB data ([0..1] for floats or [0..255] for integers).\n",
      "Clipping input data to the valid range for imshow with RGB data ([0..1] for floats or [0..255] for integers).\n",
      "Clipping input data to the valid range for imshow with RGB data ([0..1] for floats or [0..255] for integers).\n",
      "Clipping input data to the valid range for imshow with RGB data ([0..1] for floats or [0..255] for integers).\n",
      "Clipping input data to the valid range for imshow with RGB data ([0..1] for floats or [0..255] for integers).\n",
      "Clipping input data to the valid range for imshow with RGB data ([0..1] for floats or [0..255] for integers).\n",
      "Clipping input data to the valid range for imshow with RGB data ([0..1] for floats or [0..255] for integers).\n",
      "Clipping input data to the valid range for imshow with RGB data ([0..1] for floats or [0..255] for integers).\n",
      "Clipping input data to the valid range for imshow with RGB data ([0..1] for floats or [0..255] for integers).\n"
     ]
    },
    {
     "name": "stdout",
     "output_type": "stream",
     "text": [
      "r------------- :  10\n",
      "r------------- :  11\n",
      "generate spectrograms\n",
      "No of CPUs : 24\n",
      "Feature Extraction..........................\n",
      "Feature Extraction..........................\n"
     ]
    },
    {
     "name": "stderr",
     "output_type": "stream",
     "text": [
      "Clipping input data to the valid range for imshow with RGB data ([0..1] for floats or [0..255] for integers).\n",
      "Clipping input data to the valid range for imshow with RGB data ([0..1] for floats or [0..255] for integers).\n"
     ]
    },
    {
     "name": "stdout",
     "output_type": "stream",
     "text": [
      "r------------- :  12\n",
      "r------------- :  13\n",
      "r------------- :  14\n",
      "r------------- :  15\n",
      "r------------- :  16\n",
      "r------------- :  17\n",
      "r------------- :  18\n",
      "r------------- :  19\n",
      "r------------- :  20\n",
      "r------------- :  21\n",
      "r------------- :  22\n",
      "generate spectrograms\n",
      "No of CPUs : 24\n",
      "Feature Extraction..........................\n",
      "Feature Extraction..........................Feature Extraction..........................Feature Extraction..........................Feature Extraction..........................Feature Extraction..........................Feature Extraction..........................Feature Extraction..........................Feature Extraction..........................Feature Extraction..........................Feature Extraction..........................\n",
      "\n",
      "\n",
      "\n",
      "\n",
      "\n",
      "\n",
      "\n",
      "\n",
      "\n"
     ]
    },
    {
     "name": "stderr",
     "output_type": "stream",
     "text": [
      "Clipping input data to the valid range for imshow with RGB data ([0..1] for floats or [0..255] for integers).\n",
      "Clipping input data to the valid range for imshow with RGB data ([0..1] for floats or [0..255] for integers).\n",
      "Clipping input data to the valid range for imshow with RGB data ([0..1] for floats or [0..255] for integers).\n",
      "Clipping input data to the valid range for imshow with RGB data ([0..1] for floats or [0..255] for integers).\n",
      "Clipping input data to the valid range for imshow with RGB data ([0..1] for floats or [0..255] for integers).\n",
      "Clipping input data to the valid range for imshow with RGB data ([0..1] for floats or [0..255] for integers).\n",
      "Clipping input data to the valid range for imshow with RGB data ([0..1] for floats or [0..255] for integers).\n",
      "Clipping input data to the valid range for imshow with RGB data ([0..1] for floats or [0..255] for integers).\n",
      "Clipping input data to the valid range for imshow with RGB data ([0..1] for floats or [0..255] for integers).\n",
      "Clipping input data to the valid range for imshow with RGB data ([0..1] for floats or [0..255] for integers).\n",
      "Clipping input data to the valid range for imshow with RGB data ([0..1] for floats or [0..255] for integers).\n"
     ]
    },
    {
     "name": "stdout",
     "output_type": "stream",
     "text": [
      "r------------- :  23\n",
      "r------------- :  24\n",
      "r------------- :  25\n",
      "r------------- :  26\n",
      "r------------- :  27\n",
      "r------------- :  28\n",
      "generate spectrograms\n",
      "No of CPUs : 24\n",
      "Feature Extraction..........................\n",
      "Feature Extraction..........................Feature Extraction..........................Feature Extraction..........................Feature Extraction..........................Feature Extraction..........................\n",
      "\n",
      "\n",
      "\n",
      "\n"
     ]
    },
    {
     "name": "stderr",
     "output_type": "stream",
     "text": [
      "Clipping input data to the valid range for imshow with RGB data ([0..1] for floats or [0..255] for integers).\n",
      "Clipping input data to the valid range for imshow with RGB data ([0..1] for floats or [0..255] for integers).\n",
      "Clipping input data to the valid range for imshow with RGB data ([0..1] for floats or [0..255] for integers).\n",
      "Clipping input data to the valid range for imshow with RGB data ([0..1] for floats or [0..255] for integers).\n",
      "Clipping input data to the valid range for imshow with RGB data ([0..1] for floats or [0..255] for integers).\n",
      "Clipping input data to the valid range for imshow with RGB data ([0..1] for floats or [0..255] for integers).\n"
     ]
    },
    {
     "name": "stdout",
     "output_type": "stream",
     "text": [
      "r------------- :  29\n",
      "r------------- :  30\n",
      "generate spectrograms\n",
      "No of CPUs : 24\n",
      "Feature Extraction..........................\n",
      "Feature Extraction..........................\n"
     ]
    },
    {
     "name": "stderr",
     "output_type": "stream",
     "text": [
      "Clipping input data to the valid range for imshow with RGB data ([0..1] for floats or [0..255] for integers).\n",
      "Clipping input data to the valid range for imshow with RGB data ([0..1] for floats or [0..255] for integers).\n"
     ]
    },
    {
     "name": "stdout",
     "output_type": "stream",
     "text": [
      "r------------- :  31\n",
      "r------------- :  32\n",
      "generate spectrograms\n",
      "No of CPUs : 24\n",
      "Feature Extraction..........................\n",
      "Feature Extraction..........................\n"
     ]
    },
    {
     "name": "stderr",
     "output_type": "stream",
     "text": [
      "Clipping input data to the valid range for imshow with RGB data ([0..1] for floats or [0..255] for integers).\n",
      "Clipping input data to the valid range for imshow with RGB data ([0..1] for floats or [0..255] for integers).\n"
     ]
    },
    {
     "name": "stdout",
     "output_type": "stream",
     "text": [
      "r------------- :  33\n",
      "r------------- :  34\n",
      "r------------- :  35\n",
      "generate spectrograms\n",
      "No of CPUs : 24\n",
      "Feature Extraction..........................Feature Extraction..........................Feature Extraction..........................\n",
      "\n",
      "\n"
     ]
    },
    {
     "name": "stderr",
     "output_type": "stream",
     "text": [
      "Clipping input data to the valid range for imshow with RGB data ([0..1] for floats or [0..255] for integers).\n",
      "Clipping input data to the valid range for imshow with RGB data ([0..1] for floats or [0..255] for integers).\n",
      "Clipping input data to the valid range for imshow with RGB data ([0..1] for floats or [0..255] for integers).\n"
     ]
    },
    {
     "name": "stdout",
     "output_type": "stream",
     "text": [
      "r------------- :  36\n",
      "generate spectrograms\n",
      "No of CPUs : 24\n",
      "Feature Extraction..........................\n"
     ]
    },
    {
     "name": "stderr",
     "output_type": "stream",
     "text": [
      "Clipping input data to the valid range for imshow with RGB data ([0..1] for floats or [0..255] for integers).\n"
     ]
    },
    {
     "name": "stdout",
     "output_type": "stream",
     "text": [
      "r------------- :  37\n",
      "r------------- :  38\n",
      "generate spectrograms\n",
      "No of CPUs : 24\n",
      "Feature Extraction..........................\n",
      "Feature Extraction..........................\n"
     ]
    },
    {
     "name": "stderr",
     "output_type": "stream",
     "text": [
      "Clipping input data to the valid range for imshow with RGB data ([0..1] for floats or [0..255] for integers).\n",
      "Clipping input data to the valid range for imshow with RGB data ([0..1] for floats or [0..255] for integers).\n"
     ]
    },
    {
     "name": "stdout",
     "output_type": "stream",
     "text": [
      "r------------- :  39\n",
      "r------------- :  40\n",
      "r------------- :  41\n",
      "generate spectrograms\n",
      "No of CPUs : 24\n",
      "Feature Extraction..........................\n",
      "Feature Extraction..........................Feature Extraction..........................\n",
      "\n"
     ]
    },
    {
     "name": "stderr",
     "output_type": "stream",
     "text": [
      "Clipping input data to the valid range for imshow with RGB data ([0..1] for floats or [0..255] for integers).\n",
      "Clipping input data to the valid range for imshow with RGB data ([0..1] for floats or [0..255] for integers).\n",
      "Clipping input data to the valid range for imshow with RGB data ([0..1] for floats or [0..255] for integers).\n"
     ]
    },
    {
     "name": "stdout",
     "output_type": "stream",
     "text": [
      "r------------- :  42\n",
      "r------------- :  43\n",
      "r------------- :  44\n",
      "r------------- :  45\n",
      "r------------- :  46\n",
      "r------------- :  47\n",
      "r------------- :  48\n",
      "r------------- :  49\n",
      "generate spectrograms\n",
      "No of CPUs : 24\n",
      "Feature Extraction..........................\n",
      "Feature Extraction..........................Feature Extraction..........................Feature Extraction..........................Feature Extraction..........................Feature Extraction..........................Feature Extraction..........................Feature Extraction..........................\n",
      "\n",
      "\n",
      "\n",
      "\n",
      "\n",
      "\n"
     ]
    },
    {
     "name": "stderr",
     "output_type": "stream",
     "text": [
      "Clipping input data to the valid range for imshow with RGB data ([0..1] for floats or [0..255] for integers).\n",
      "Clipping input data to the valid range for imshow with RGB data ([0..1] for floats or [0..255] for integers).\n",
      "Clipping input data to the valid range for imshow with RGB data ([0..1] for floats or [0..255] for integers).\n",
      "Clipping input data to the valid range for imshow with RGB data ([0..1] for floats or [0..255] for integers).\n",
      "Clipping input data to the valid range for imshow with RGB data ([0..1] for floats or [0..255] for integers).\n",
      "Clipping input data to the valid range for imshow with RGB data ([0..1] for floats or [0..255] for integers).\n",
      "Clipping input data to the valid range for imshow with RGB data ([0..1] for floats or [0..255] for integers).\n",
      "Clipping input data to the valid range for imshow with RGB data ([0..1] for floats or [0..255] for integers).\n"
     ]
    },
    {
     "name": "stdout",
     "output_type": "stream",
     "text": [
      "r------------- :  50\n",
      "r------------- :  51\n",
      "r------------- :  52\n",
      "r------------- :  53\n",
      "r------------- :  54\n",
      "generate spectrograms\n",
      "No of CPUs : 24\n",
      "Feature Extraction..........................\n",
      "Feature Extraction..........................Feature Extraction..........................Feature Extraction..........................Feature Extraction..........................\n",
      "\n",
      "\n",
      "\n"
     ]
    },
    {
     "name": "stderr",
     "output_type": "stream",
     "text": [
      "Clipping input data to the valid range for imshow with RGB data ([0..1] for floats or [0..255] for integers).\n",
      "Clipping input data to the valid range for imshow with RGB data ([0..1] for floats or [0..255] for integers).\n",
      "Clipping input data to the valid range for imshow with RGB data ([0..1] for floats or [0..255] for integers).\n",
      "Clipping input data to the valid range for imshow with RGB data ([0..1] for floats or [0..255] for integers).\n",
      "Clipping input data to the valid range for imshow with RGB data ([0..1] for floats or [0..255] for integers).\n"
     ]
    },
    {
     "name": "stdout",
     "output_type": "stream",
     "text": [
      "r------------- :  55\n",
      "r------------- :  56\n",
      "r------------- :  57\n",
      "r------------- :  58\n",
      "generate spectrograms\n",
      "No of CPUs : 24\n",
      "Feature Extraction..........................\n",
      "Feature Extraction..........................Feature Extraction..........................Feature Extraction..........................\n",
      "\n",
      "\n"
     ]
    },
    {
     "name": "stderr",
     "output_type": "stream",
     "text": [
      "Clipping input data to the valid range for imshow with RGB data ([0..1] for floats or [0..255] for integers).\n",
      "Clipping input data to the valid range for imshow with RGB data ([0..1] for floats or [0..255] for integers).\n",
      "Clipping input data to the valid range for imshow with RGB data ([0..1] for floats or [0..255] for integers).\n",
      "Clipping input data to the valid range for imshow with RGB data ([0..1] for floats or [0..255] for integers).\n"
     ]
    },
    {
     "name": "stdout",
     "output_type": "stream",
     "text": [
      "r------------- :  59\n",
      "r------------- :  60\n",
      "r------------- :  61\n",
      "r------------- :  62\n",
      "generate spectrograms\n",
      "No of CPUs : 24\n",
      "Feature Extraction..........................\n",
      "Feature Extraction..........................Feature Extraction..........................Feature Extraction..........................\n",
      "\n",
      "\n"
     ]
    },
    {
     "name": "stderr",
     "output_type": "stream",
     "text": [
      "Clipping input data to the valid range for imshow with RGB data ([0..1] for floats or [0..255] for integers).\n",
      "Clipping input data to the valid range for imshow with RGB data ([0..1] for floats or [0..255] for integers).\n",
      "Clipping input data to the valid range for imshow with RGB data ([0..1] for floats or [0..255] for integers).\n",
      "Clipping input data to the valid range for imshow with RGB data ([0..1] for floats or [0..255] for integers).\n"
     ]
    },
    {
     "name": "stdout",
     "output_type": "stream",
     "text": [
      "r------------- :  63\n",
      "r------------- :  64\n",
      "r------------- :  65\n",
      "generate spectrograms\n",
      "No of CPUs : 24\n",
      "Feature Extraction..........................\n",
      "Feature Extraction..........................Feature Extraction..........................\n",
      "\n"
     ]
    },
    {
     "name": "stderr",
     "output_type": "stream",
     "text": [
      "Clipping input data to the valid range for imshow with RGB data ([0..1] for floats or [0..255] for integers).\n",
      "Clipping input data to the valid range for imshow with RGB data ([0..1] for floats or [0..255] for integers).\n",
      "Clipping input data to the valid range for imshow with RGB data ([0..1] for floats or [0..255] for integers).\n"
     ]
    },
    {
     "name": "stdout",
     "output_type": "stream",
     "text": [
      "r------------- :  66\n",
      "generate spectrograms\n",
      "No of CPUs : 24\n",
      "Feature Extraction..........................\n"
     ]
    },
    {
     "name": "stderr",
     "output_type": "stream",
     "text": [
      "Clipping input data to the valid range for imshow with RGB data ([0..1] for floats or [0..255] for integers).\n"
     ]
    },
    {
     "name": "stdout",
     "output_type": "stream",
     "text": [
      "r------------- :  67\n",
      "generate spectrograms\n",
      "No of CPUs : 24\n",
      "Feature Extraction..........................\n"
     ]
    },
    {
     "name": "stderr",
     "output_type": "stream",
     "text": [
      "Clipping input data to the valid range for imshow with RGB data ([0..1] for floats or [0..255] for integers).\n"
     ]
    },
    {
     "name": "stdout",
     "output_type": "stream",
     "text": [
      "r------------- :  68\n",
      "generate spectrograms\n",
      "No of CPUs : 24\n",
      "Feature Extraction..........................\n"
     ]
    },
    {
     "name": "stderr",
     "output_type": "stream",
     "text": [
      "Clipping input data to the valid range for imshow with RGB data ([0..1] for floats or [0..255] for integers).\n"
     ]
    },
    {
     "name": "stdout",
     "output_type": "stream",
     "text": [
      "r------------- :  69\n",
      "generate spectrograms\n",
      "No of CPUs : 24\n",
      "Feature Extraction..........................\n"
     ]
    },
    {
     "name": "stderr",
     "output_type": "stream",
     "text": [
      "Clipping input data to the valid range for imshow with RGB data ([0..1] for floats or [0..255] for integers).\n"
     ]
    },
    {
     "name": "stdout",
     "output_type": "stream",
     "text": [
      "r------------- :  70\n",
      "r------------- :  71\n",
      "r------------- :  72\n",
      "r------------- :  73\n",
      "r------------- :  74\n",
      "r------------- :  75\n",
      "r------------- :  76\n",
      "r------------- :  77\n",
      "r------------- :  78\n",
      "r------------- :  79\n",
      "r------------- :  80\n",
      "r------------- :  81\n",
      "r------------- :  82\n",
      "r------------- :  83\n",
      "generate spectrograms\n",
      "No of CPUs : 24\n",
      "Feature Extraction..........................Feature Extraction..........................Feature Extraction..........................\n",
      "Feature Extraction..........................Feature Extraction..........................Feature Extraction..........................Feature Extraction..........................Feature Extraction..........................Feature Extraction..........................Feature Extraction..........................Feature Extraction..........................Feature Extraction..........................Feature Extraction..........................Feature Extraction..........................\n",
      "\n",
      "\n",
      "\n",
      "\n",
      "\n",
      "\n",
      "\n",
      "\n",
      "\n",
      "\n",
      "\n",
      "\n"
     ]
    },
    {
     "name": "stderr",
     "output_type": "stream",
     "text": [
      "Clipping input data to the valid range for imshow with RGB data ([0..1] for floats or [0..255] for integers).\n",
      "Clipping input data to the valid range for imshow with RGB data ([0..1] for floats or [0..255] for integers).\n",
      "Clipping input data to the valid range for imshow with RGB data ([0..1] for floats or [0..255] for integers).\n",
      "Clipping input data to the valid range for imshow with RGB data ([0..1] for floats or [0..255] for integers).\n",
      "Clipping input data to the valid range for imshow with RGB data ([0..1] for floats or [0..255] for integers).\n",
      "Clipping input data to the valid range for imshow with RGB data ([0..1] for floats or [0..255] for integers).\n",
      "Clipping input data to the valid range for imshow with RGB data ([0..1] for floats or [0..255] for integers).\n",
      "Clipping input data to the valid range for imshow with RGB data ([0..1] for floats or [0..255] for integers).\n",
      "Clipping input data to the valid range for imshow with RGB data ([0..1] for floats or [0..255] for integers).\n",
      "Clipping input data to the valid range for imshow with RGB data ([0..1] for floats or [0..255] for integers).\n",
      "Clipping input data to the valid range for imshow with RGB data ([0..1] for floats or [0..255] for integers).\n",
      "Clipping input data to the valid range for imshow with RGB data ([0..1] for floats or [0..255] for integers).\n",
      "Clipping input data to the valid range for imshow with RGB data ([0..1] for floats or [0..255] for integers).\n",
      "Clipping input data to the valid range for imshow with RGB data ([0..1] for floats or [0..255] for integers).\n"
     ]
    },
    {
     "name": "stdout",
     "output_type": "stream",
     "text": [
      "r------------- :  84\n",
      "r------------- :  85\n",
      "r------------- :  86\n",
      "generate spectrograms\n",
      "No of CPUs : 24\n",
      "Feature Extraction..........................Feature Extraction..........................Feature Extraction..........................\n",
      "\n",
      "\n"
     ]
    },
    {
     "name": "stderr",
     "output_type": "stream",
     "text": [
      "Clipping input data to the valid range for imshow with RGB data ([0..1] for floats or [0..255] for integers).\n",
      "Clipping input data to the valid range for imshow with RGB data ([0..1] for floats or [0..255] for integers).\n",
      "Clipping input data to the valid range for imshow with RGB data ([0..1] for floats or [0..255] for integers).\n"
     ]
    },
    {
     "name": "stdout",
     "output_type": "stream",
     "text": [
      "r------------- :  87\n",
      "r------------- :  88\n",
      "r------------- :  89\n",
      "generate spectrograms\n",
      "No of CPUs : 24\n",
      "Feature Extraction..........................\n",
      "Feature Extraction..........................Feature Extraction..........................\n",
      "\n"
     ]
    },
    {
     "name": "stderr",
     "output_type": "stream",
     "text": [
      "Clipping input data to the valid range for imshow with RGB data ([0..1] for floats or [0..255] for integers).\n",
      "Clipping input data to the valid range for imshow with RGB data ([0..1] for floats or [0..255] for integers).\n",
      "Clipping input data to the valid range for imshow with RGB data ([0..1] for floats or [0..255] for integers).\n"
     ]
    },
    {
     "name": "stdout",
     "output_type": "stream",
     "text": [
      "r------------- :  90\n",
      "generate spectrograms\n",
      "No of CPUs : 24\n",
      "Feature Extraction..........................\n"
     ]
    },
    {
     "name": "stderr",
     "output_type": "stream",
     "text": [
      "Clipping input data to the valid range for imshow with RGB data ([0..1] for floats or [0..255] for integers).\n"
     ]
    },
    {
     "name": "stdout",
     "output_type": "stream",
     "text": [
      "r------------- :  91\n",
      "r------------- :  92\n",
      "r------------- :  93\n",
      "r------------- :  94\n",
      "r------------- :  95\n",
      "r------------- :  96\n",
      "generate spectrograms\n",
      "No of CPUs : 24\n",
      "Feature Extraction..........................Feature Extraction..........................\n",
      "Feature Extraction..........................Feature Extraction..........................Feature Extraction..........................Feature Extraction..........................\n",
      "\n",
      "\n",
      "\n",
      "\n"
     ]
    },
    {
     "name": "stderr",
     "output_type": "stream",
     "text": [
      "Clipping input data to the valid range for imshow with RGB data ([0..1] for floats or [0..255] for integers).\n",
      "Clipping input data to the valid range for imshow with RGB data ([0..1] for floats or [0..255] for integers).\n",
      "Clipping input data to the valid range for imshow with RGB data ([0..1] for floats or [0..255] for integers).\n",
      "Clipping input data to the valid range for imshow with RGB data ([0..1] for floats or [0..255] for integers).\n",
      "Clipping input data to the valid range for imshow with RGB data ([0..1] for floats or [0..255] for integers).\n",
      "Clipping input data to the valid range for imshow with RGB data ([0..1] for floats or [0..255] for integers).\n"
     ]
    },
    {
     "name": "stdout",
     "output_type": "stream",
     "text": [
      "r------------- :  97\n",
      "r------------- :  98\n",
      "r------------- :  99\n",
      "generate spectrograms\n",
      "No of CPUs : 24\n",
      "Feature Extraction..........................\n",
      "Feature Extraction..........................Feature Extraction..........................\n",
      "\n"
     ]
    },
    {
     "name": "stderr",
     "output_type": "stream",
     "text": [
      "Clipping input data to the valid range for imshow with RGB data ([0..1] for floats or [0..255] for integers).\n",
      "Clipping input data to the valid range for imshow with RGB data ([0..1] for floats or [0..255] for integers).\n",
      "Clipping input data to the valid range for imshow with RGB data ([0..1] for floats or [0..255] for integers).\n"
     ]
    },
    {
     "name": "stdout",
     "output_type": "stream",
     "text": [
      "r------------- :  100\n",
      "generate spectrograms\n",
      "No of CPUs : 24\n",
      "Feature Extraction..........................\n"
     ]
    },
    {
     "name": "stderr",
     "output_type": "stream",
     "text": [
      "Clipping input data to the valid range for imshow with RGB data ([0..1] for floats or [0..255] for integers).\n"
     ]
    },
    {
     "name": "stdout",
     "output_type": "stream",
     "text": [
      "r------------- :  101\n",
      "generate spectrograms\n",
      "No of CPUs : 24\n",
      "Feature Extraction..........................\n"
     ]
    },
    {
     "name": "stderr",
     "output_type": "stream",
     "text": [
      "Clipping input data to the valid range for imshow with RGB data ([0..1] for floats or [0..255] for integers).\n"
     ]
    },
    {
     "name": "stdout",
     "output_type": "stream",
     "text": [
      "r------------- :  102\n",
      "r------------- :  103\n",
      "generate spectrograms\n",
      "No of CPUs : 24\n",
      "Feature Extraction..........................\n",
      "Feature Extraction..........................\n"
     ]
    },
    {
     "name": "stderr",
     "output_type": "stream",
     "text": [
      "Clipping input data to the valid range for imshow with RGB data ([0..1] for floats or [0..255] for integers).\n",
      "Clipping input data to the valid range for imshow with RGB data ([0..1] for floats or [0..255] for integers).\n"
     ]
    },
    {
     "name": "stdout",
     "output_type": "stream",
     "text": [
      "r------------- :  104\n",
      "generate spectrograms\n",
      "No of CPUs : 24\n",
      "Feature Extraction..........................\n"
     ]
    },
    {
     "name": "stderr",
     "output_type": "stream",
     "text": [
      "Clipping input data to the valid range for imshow with RGB data ([0..1] for floats or [0..255] for integers).\n"
     ]
    },
    {
     "name": "stdout",
     "output_type": "stream",
     "text": [
      "r------------- :  105\n",
      "r------------- :  106\n",
      "r------------- :  107\n",
      "generate spectrograms\n",
      "No of CPUs : 24\n",
      "Feature Extraction..........................\n",
      "Feature Extraction..........................Feature Extraction..........................\n",
      "\n"
     ]
    },
    {
     "name": "stderr",
     "output_type": "stream",
     "text": [
      "Clipping input data to the valid range for imshow with RGB data ([0..1] for floats or [0..255] for integers).\n",
      "Clipping input data to the valid range for imshow with RGB data ([0..1] for floats or [0..255] for integers).\n",
      "Clipping input data to the valid range for imshow with RGB data ([0..1] for floats or [0..255] for integers).\n"
     ]
    },
    {
     "name": "stdout",
     "output_type": "stream",
     "text": [
      "r------------- :  108\n",
      "r------------- :  109\n",
      "r------------- :  110\n",
      "r------------- :  111\n",
      "r------------- :  112\n",
      "r------------- :  113\n",
      "generate spectrograms\n",
      "No of CPUs : 24\n",
      "Feature Extraction..........................Feature Extraction..........................Feature Extraction..........................Feature Extraction..........................Feature Extraction..........................Feature Extraction..........................\n",
      "\n",
      "\n",
      "\n",
      "\n",
      "\n"
     ]
    },
    {
     "name": "stderr",
     "output_type": "stream",
     "text": [
      "Clipping input data to the valid range for imshow with RGB data ([0..1] for floats or [0..255] for integers).\n",
      "Clipping input data to the valid range for imshow with RGB data ([0..1] for floats or [0..255] for integers).\n",
      "Clipping input data to the valid range for imshow with RGB data ([0..1] for floats or [0..255] for integers).\n",
      "Clipping input data to the valid range for imshow with RGB data ([0..1] for floats or [0..255] for integers).\n",
      "Clipping input data to the valid range for imshow with RGB data ([0..1] for floats or [0..255] for integers).\n",
      "Clipping input data to the valid range for imshow with RGB data ([0..1] for floats or [0..255] for integers).\n"
     ]
    },
    {
     "name": "stdout",
     "output_type": "stream",
     "text": [
      "r------------- :  114\n",
      "r------------- :  115\n",
      "r------------- :  116\n",
      "generate spectrograms\n",
      "No of CPUs : 24\n",
      "Feature Extraction..........................\n",
      "Feature Extraction..........................Feature Extraction..........................\n",
      "\n"
     ]
    },
    {
     "name": "stderr",
     "output_type": "stream",
     "text": [
      "Clipping input data to the valid range for imshow with RGB data ([0..1] for floats or [0..255] for integers).\n",
      "Clipping input data to the valid range for imshow with RGB data ([0..1] for floats or [0..255] for integers).\n",
      "Clipping input data to the valid range for imshow with RGB data ([0..1] for floats or [0..255] for integers).\n"
     ]
    },
    {
     "name": "stdout",
     "output_type": "stream",
     "text": [
      "r------------- :  117\n",
      "generate spectrograms\n",
      "No of CPUs : 24\n",
      "Feature Extraction..........................\n"
     ]
    },
    {
     "name": "stderr",
     "output_type": "stream",
     "text": [
      "Clipping input data to the valid range for imshow with RGB data ([0..1] for floats or [0..255] for integers).\n"
     ]
    },
    {
     "name": "stdout",
     "output_type": "stream",
     "text": [
      "r------------- :  118\n",
      "generate spectrograms\n",
      "No of CPUs : 24\n",
      "Feature Extraction..........................\n"
     ]
    },
    {
     "name": "stderr",
     "output_type": "stream",
     "text": [
      "Clipping input data to the valid range for imshow with RGB data ([0..1] for floats or [0..255] for integers).\n"
     ]
    },
    {
     "name": "stdout",
     "output_type": "stream",
     "text": [
      "r------------- :  119\n",
      "r------------- :  120\n",
      "r------------- :  121\n",
      "generate spectrograms\n",
      "No of CPUs : 24\n",
      "Feature Extraction..........................Feature Extraction..........................Feature Extraction..........................\n",
      "\n",
      "\n"
     ]
    },
    {
     "name": "stderr",
     "output_type": "stream",
     "text": [
      "Clipping input data to the valid range for imshow with RGB data ([0..1] for floats or [0..255] for integers).\n",
      "Clipping input data to the valid range for imshow with RGB data ([0..1] for floats or [0..255] for integers).\n",
      "Clipping input data to the valid range for imshow with RGB data ([0..1] for floats or [0..255] for integers).\n"
     ]
    },
    {
     "name": "stdout",
     "output_type": "stream",
     "text": [
      "r------------- :  122\n",
      "r------------- :  123\n",
      "r------------- :  124\n",
      "r------------- :  125\n",
      "r------------- :  126\n",
      "r------------- :  127\n",
      "r------------- :  128\n",
      "r------------- :  129\n",
      "generate spectrograms\n",
      "No of CPUs : 24\n",
      "Feature Extraction..........................Feature Extraction..........................Feature Extraction..........................Feature Extraction..........................Feature Extraction..........................Feature Extraction..........................Feature Extraction..........................Feature Extraction..........................\n",
      "\n",
      "\n",
      "\n",
      "\n",
      "\n",
      "\n",
      "\n"
     ]
    },
    {
     "name": "stderr",
     "output_type": "stream",
     "text": [
      "Clipping input data to the valid range for imshow with RGB data ([0..1] for floats or [0..255] for integers).\n",
      "Clipping input data to the valid range for imshow with RGB data ([0..1] for floats or [0..255] for integers).\n",
      "Clipping input data to the valid range for imshow with RGB data ([0..1] for floats or [0..255] for integers).\n",
      "Clipping input data to the valid range for imshow with RGB data ([0..1] for floats or [0..255] for integers).\n",
      "Clipping input data to the valid range for imshow with RGB data ([0..1] for floats or [0..255] for integers).\n",
      "Clipping input data to the valid range for imshow with RGB data ([0..1] for floats or [0..255] for integers).\n",
      "Clipping input data to the valid range for imshow with RGB data ([0..1] for floats or [0..255] for integers).\n",
      "Clipping input data to the valid range for imshow with RGB data ([0..1] for floats or [0..255] for integers).\n"
     ]
    },
    {
     "name": "stdout",
     "output_type": "stream",
     "text": [
      "r------------- :  130\n",
      "r------------- :  131\n",
      "r------------- :  132\n",
      "r------------- :  133\n",
      "r------------- :  134\n",
      "r------------- :  135\n",
      "r------------- :  136\n",
      "r------------- :  137\n",
      "r------------- :  138\n",
      "r------------- :  139\n",
      "r------------- :  140\n",
      "r------------- :  141\n",
      "generate spectrograms\n",
      "No of CPUs : 24\n",
      "Feature Extraction..........................Feature Extraction..........................Feature Extraction..........................Feature Extraction..........................Feature Extraction..........................Feature Extraction..........................Feature Extraction..........................Feature Extraction..........................Feature Extraction..........................Feature Extraction..........................Feature Extraction..........................Feature Extraction..........................\n",
      "\n",
      "\n",
      "\n",
      "\n",
      "\n",
      "\n",
      "\n",
      "\n",
      "\n",
      "\n",
      "\n"
     ]
    },
    {
     "name": "stderr",
     "output_type": "stream",
     "text": [
      "Clipping input data to the valid range for imshow with RGB data ([0..1] for floats or [0..255] for integers).\n",
      "Clipping input data to the valid range for imshow with RGB data ([0..1] for floats or [0..255] for integers).\n",
      "Clipping input data to the valid range for imshow with RGB data ([0..1] for floats or [0..255] for integers).\n",
      "Clipping input data to the valid range for imshow with RGB data ([0..1] for floats or [0..255] for integers).\n",
      "Clipping input data to the valid range for imshow with RGB data ([0..1] for floats or [0..255] for integers).\n",
      "Clipping input data to the valid range for imshow with RGB data ([0..1] for floats or [0..255] for integers).\n",
      "Clipping input data to the valid range for imshow with RGB data ([0..1] for floats or [0..255] for integers).\n",
      "Clipping input data to the valid range for imshow with RGB data ([0..1] for floats or [0..255] for integers).\n",
      "Clipping input data to the valid range for imshow with RGB data ([0..1] for floats or [0..255] for integers).\n",
      "Clipping input data to the valid range for imshow with RGB data ([0..1] for floats or [0..255] for integers).\n",
      "Clipping input data to the valid range for imshow with RGB data ([0..1] for floats or [0..255] for integers).\n",
      "Clipping input data to the valid range for imshow with RGB data ([0..1] for floats or [0..255] for integers).\n"
     ]
    },
    {
     "name": "stdout",
     "output_type": "stream",
     "text": [
      "r------------- :  142\n",
      "generate spectrograms\n",
      "No of CPUs : 24\n",
      "Feature Extraction..........................\n"
     ]
    },
    {
     "name": "stderr",
     "output_type": "stream",
     "text": [
      "Clipping input data to the valid range for imshow with RGB data ([0..1] for floats or [0..255] for integers).\n"
     ]
    },
    {
     "name": "stdout",
     "output_type": "stream",
     "text": [
      "r------------- :  143\n",
      "r------------- :  144\n",
      "r------------- :  145\n",
      "generate spectrograms\n",
      "No of CPUs : 24\n",
      "Feature Extraction..........................Feature Extraction..........................Feature Extraction..........................\n",
      "\n",
      "\n"
     ]
    },
    {
     "name": "stderr",
     "output_type": "stream",
     "text": [
      "Clipping input data to the valid range for imshow with RGB data ([0..1] for floats or [0..255] for integers).\n",
      "Clipping input data to the valid range for imshow with RGB data ([0..1] for floats or [0..255] for integers).\n",
      "Clipping input data to the valid range for imshow with RGB data ([0..1] for floats or [0..255] for integers).\n"
     ]
    },
    {
     "name": "stdout",
     "output_type": "stream",
     "text": [
      "r------------- :  146\n",
      "r------------- :  147\n",
      "r------------- :  148\n",
      "r------------- :  149\n",
      "r------------- :  150\n",
      "r------------- :  151\n",
      "r------------- :  152\n",
      "r------------- :  153\n",
      "r------------- :  154\n",
      "r------------- :  155\n",
      "r------------- :  156\n",
      "r------------- :  157\n",
      "r------------- :  158\n",
      "r------------- :  159\n",
      "r------------- :  160\n",
      "r------------- :  161\n",
      "r------------- :  162\n",
      "r------------- :  163\n",
      "r------------- :  164\n",
      "r------------- :  165\n",
      "r------------- :  166\n",
      "r------------- :  167\n",
      "r------------- :  168\n",
      "r------------- :  169\n",
      "generate spectrograms\n",
      "No of CPUs : 24\n",
      "Feature Extraction..........................Feature Extraction..........................Feature Extraction..........................Feature Extraction..........................Feature Extraction..........................Feature Extraction..........................Feature Extraction..........................Feature Extraction..........................Feature Extraction..........................Feature Extraction..........................Feature Extraction..........................Feature Extraction..........................Feature Extraction..........................Feature Extraction..........................Feature Extraction..........................Feature Extraction..........................Feature Extraction..........................Feature Extraction..........................Feature Extraction..........................Feature Extraction..........................Feature Extraction..........................Feature Extraction..........................\n",
      "\n",
      "Feature Extraction..........................Feature Extraction..........................\n",
      "\n",
      "\n",
      "\n",
      "\n",
      "\n",
      "\n",
      "\n",
      "\n",
      "\n",
      "\n",
      "\n",
      "\n",
      "\n",
      "\n",
      "\n",
      "\n",
      "\n",
      "\n",
      "\n",
      "\n",
      "\n"
     ]
    },
    {
     "name": "stderr",
     "output_type": "stream",
     "text": [
      "Clipping input data to the valid range for imshow with RGB data ([0..1] for floats or [0..255] for integers).\n",
      "Clipping input data to the valid range for imshow with RGB data ([0..1] for floats or [0..255] for integers).\n",
      "Clipping input data to the valid range for imshow with RGB data ([0..1] for floats or [0..255] for integers).\n",
      "Clipping input data to the valid range for imshow with RGB data ([0..1] for floats or [0..255] for integers).\n",
      "Clipping input data to the valid range for imshow with RGB data ([0..1] for floats or [0..255] for integers).\n",
      "Clipping input data to the valid range for imshow with RGB data ([0..1] for floats or [0..255] for integers).\n",
      "Clipping input data to the valid range for imshow with RGB data ([0..1] for floats or [0..255] for integers).\n",
      "Clipping input data to the valid range for imshow with RGB data ([0..1] for floats or [0..255] for integers).\n",
      "Clipping input data to the valid range for imshow with RGB data ([0..1] for floats or [0..255] for integers).\n",
      "Clipping input data to the valid range for imshow with RGB data ([0..1] for floats or [0..255] for integers).\n",
      "Clipping input data to the valid range for imshow with RGB data ([0..1] for floats or [0..255] for integers).\n",
      "Clipping input data to the valid range for imshow with RGB data ([0..1] for floats or [0..255] for integers).\n",
      "Clipping input data to the valid range for imshow with RGB data ([0..1] for floats or [0..255] for integers).\n",
      "Clipping input data to the valid range for imshow with RGB data ([0..1] for floats or [0..255] for integers).\n",
      "Clipping input data to the valid range for imshow with RGB data ([0..1] for floats or [0..255] for integers).\n",
      "Clipping input data to the valid range for imshow with RGB data ([0..1] for floats or [0..255] for integers).\n",
      "Clipping input data to the valid range for imshow with RGB data ([0..1] for floats or [0..255] for integers).\n",
      "Clipping input data to the valid range for imshow with RGB data ([0..1] for floats or [0..255] for integers).\n",
      "Clipping input data to the valid range for imshow with RGB data ([0..1] for floats or [0..255] for integers).\n",
      "Clipping input data to the valid range for imshow with RGB data ([0..1] for floats or [0..255] for integers).\n",
      "Clipping input data to the valid range for imshow with RGB data ([0..1] for floats or [0..255] for integers).\n",
      "Clipping input data to the valid range for imshow with RGB data ([0..1] for floats or [0..255] for integers).\n",
      "Clipping input data to the valid range for imshow with RGB data ([0..1] for floats or [0..255] for integers).\n",
      "Clipping input data to the valid range for imshow with RGB data ([0..1] for floats or [0..255] for integers).\n"
     ]
    },
    {
     "name": "stdout",
     "output_type": "stream",
     "text": [
      "r------------- :  170\n",
      "r------------- :  171\n",
      "r------------- :  172\n",
      "generate spectrograms\n",
      "No of CPUs : 24\n",
      "Feature Extraction..........................\n",
      "Feature Extraction..........................Feature Extraction..........................\n",
      "\n"
     ]
    },
    {
     "name": "stderr",
     "output_type": "stream",
     "text": [
      "Clipping input data to the valid range for imshow with RGB data ([0..1] for floats or [0..255] for integers).\n",
      "Clipping input data to the valid range for imshow with RGB data ([0..1] for floats or [0..255] for integers).\n",
      "Clipping input data to the valid range for imshow with RGB data ([0..1] for floats or [0..255] for integers).\n"
     ]
    },
    {
     "name": "stdout",
     "output_type": "stream",
     "text": [
      "r------------- :  173\n",
      "r------------- :  174\n",
      "generate spectrograms\n",
      "No of CPUs : 24\n",
      "Feature Extraction..........................Feature Extraction..........................\n",
      "\n"
     ]
    },
    {
     "name": "stderr",
     "output_type": "stream",
     "text": [
      "Clipping input data to the valid range for imshow with RGB data ([0..1] for floats or [0..255] for integers).\n",
      "Clipping input data to the valid range for imshow with RGB data ([0..1] for floats or [0..255] for integers).\n"
     ]
    },
    {
     "name": "stdout",
     "output_type": "stream",
     "text": [
      "r------------- :  175\n",
      "r------------- :  176\n",
      "r------------- :  177\n",
      "r------------- :  178\n",
      "r------------- :  179\n",
      "r------------- :  180\n",
      "r------------- :  181\n",
      "r------------- :  182\n",
      "generate spectrograms\n",
      "No of CPUs : 24\n",
      "Feature Extraction..........................\n",
      "Feature Extraction..........................Feature Extraction..........................Feature Extraction..........................Feature Extraction..........................Feature Extraction..........................Feature Extraction..........................Feature Extraction..........................\n",
      "\n",
      "\n",
      "\n",
      "\n",
      "\n",
      "\n"
     ]
    },
    {
     "name": "stderr",
     "output_type": "stream",
     "text": [
      "Clipping input data to the valid range for imshow with RGB data ([0..1] for floats or [0..255] for integers).\n",
      "Clipping input data to the valid range for imshow with RGB data ([0..1] for floats or [0..255] for integers).\n",
      "Clipping input data to the valid range for imshow with RGB data ([0..1] for floats or [0..255] for integers).\n",
      "Clipping input data to the valid range for imshow with RGB data ([0..1] for floats or [0..255] for integers).\n",
      "Clipping input data to the valid range for imshow with RGB data ([0..1] for floats or [0..255] for integers).\n",
      "Clipping input data to the valid range for imshow with RGB data ([0..1] for floats or [0..255] for integers).\n",
      "Clipping input data to the valid range for imshow with RGB data ([0..1] for floats or [0..255] for integers).\n",
      "Clipping input data to the valid range for imshow with RGB data ([0..1] for floats or [0..255] for integers).\n"
     ]
    },
    {
     "name": "stdout",
     "output_type": "stream",
     "text": [
      "r------------- :  183\n",
      "generate spectrograms\n",
      "No of CPUs : 24\n",
      "Feature Extraction..........................\n"
     ]
    },
    {
     "name": "stderr",
     "output_type": "stream",
     "text": [
      "Clipping input data to the valid range for imshow with RGB data ([0..1] for floats or [0..255] for integers).\n"
     ]
    },
    {
     "name": "stdout",
     "output_type": "stream",
     "text": [
      "r------------- :  184\n",
      "r------------- :  185\n",
      "r------------- :  186\n",
      "r------------- :  187\n",
      "generate spectrograms\n",
      "No of CPUs : 24\n",
      "Feature Extraction..........................\n",
      "Feature Extraction..........................Feature Extraction..........................Feature Extraction..........................\n",
      "\n",
      "\n"
     ]
    },
    {
     "name": "stderr",
     "output_type": "stream",
     "text": [
      "Clipping input data to the valid range for imshow with RGB data ([0..1] for floats or [0..255] for integers).\n",
      "Clipping input data to the valid range for imshow with RGB data ([0..1] for floats or [0..255] for integers).\n",
      "Clipping input data to the valid range for imshow with RGB data ([0..1] for floats or [0..255] for integers).\n",
      "Clipping input data to the valid range for imshow with RGB data ([0..1] for floats or [0..255] for integers).\n"
     ]
    },
    {
     "name": "stdout",
     "output_type": "stream",
     "text": [
      "r------------- :  188\n",
      "r------------- :  189\n",
      "r------------- :  190\n",
      "r------------- :  191\n",
      "r------------- :  192\n",
      "r------------- :  193\n",
      "generate spectrograms\n",
      "No of CPUs : 24\n",
      "Feature Extraction..........................Feature Extraction..........................Feature Extraction..........................Feature Extraction..........................Feature Extraction..........................Feature Extraction..........................\n",
      "\n",
      "\n",
      "\n",
      "\n",
      "\n"
     ]
    },
    {
     "name": "stderr",
     "output_type": "stream",
     "text": [
      "Clipping input data to the valid range for imshow with RGB data ([0..1] for floats or [0..255] for integers).\n",
      "Clipping input data to the valid range for imshow with RGB data ([0..1] for floats or [0..255] for integers).\n",
      "Clipping input data to the valid range for imshow with RGB data ([0..1] for floats or [0..255] for integers).\n",
      "Clipping input data to the valid range for imshow with RGB data ([0..1] for floats or [0..255] for integers).\n",
      "Clipping input data to the valid range for imshow with RGB data ([0..1] for floats or [0..255] for integers).\n",
      "Clipping input data to the valid range for imshow with RGB data ([0..1] for floats or [0..255] for integers).\n"
     ]
    },
    {
     "name": "stdout",
     "output_type": "stream",
     "text": [
      "r------------- :  194\n",
      "r------------- :  195\n",
      "r------------- :  196\n",
      "r------------- :  197\n",
      "r------------- :  198\n",
      "r------------- :  199\n",
      "r------------- :  200\n",
      "generate spectrograms\n",
      "No of CPUs : 24\n",
      "Feature Extraction..........................Feature Extraction..........................Feature Extraction..........................Feature Extraction..........................Feature Extraction..........................Feature Extraction..........................Feature Extraction..........................\n",
      "\n",
      "\n",
      "\n",
      "\n",
      "\n",
      "\n"
     ]
    },
    {
     "name": "stderr",
     "output_type": "stream",
     "text": [
      "Clipping input data to the valid range for imshow with RGB data ([0..1] for floats or [0..255] for integers).\n",
      "Clipping input data to the valid range for imshow with RGB data ([0..1] for floats or [0..255] for integers).\n",
      "Clipping input data to the valid range for imshow with RGB data ([0..1] for floats or [0..255] for integers).\n",
      "Clipping input data to the valid range for imshow with RGB data ([0..1] for floats or [0..255] for integers).\n",
      "Clipping input data to the valid range for imshow with RGB data ([0..1] for floats or [0..255] for integers).\n",
      "Clipping input data to the valid range for imshow with RGB data ([0..1] for floats or [0..255] for integers).\n",
      "Clipping input data to the valid range for imshow with RGB data ([0..1] for floats or [0..255] for integers).\n"
     ]
    },
    {
     "name": "stdout",
     "output_type": "stream",
     "text": [
      "r------------- :  201\n",
      "r------------- :  202\n",
      "r------------- :  203\n",
      "generate spectrograms\n",
      "No of CPUs : 24\n",
      "Feature Extraction..........................\n",
      "Feature Extraction..........................Feature Extraction..........................\n",
      "\n"
     ]
    },
    {
     "name": "stderr",
     "output_type": "stream",
     "text": [
      "Clipping input data to the valid range for imshow with RGB data ([0..1] for floats or [0..255] for integers).\n",
      "Clipping input data to the valid range for imshow with RGB data ([0..1] for floats or [0..255] for integers).\n",
      "Clipping input data to the valid range for imshow with RGB data ([0..1] for floats or [0..255] for integers).\n"
     ]
    },
    {
     "name": "stdout",
     "output_type": "stream",
     "text": [
      "r------------- :  204\n",
      "r------------- :  205\n",
      "generate spectrograms\n",
      "No of CPUs : 24\n",
      "Feature Extraction..........................Feature Extraction..........................\n",
      "\n"
     ]
    },
    {
     "name": "stderr",
     "output_type": "stream",
     "text": [
      "Clipping input data to the valid range for imshow with RGB data ([0..1] for floats or [0..255] for integers).\n",
      "Clipping input data to the valid range for imshow with RGB data ([0..1] for floats or [0..255] for integers).\n"
     ]
    },
    {
     "name": "stdout",
     "output_type": "stream",
     "text": [
      "r------------- :  206\n",
      "r------------- :  207\n",
      "r------------- :  208\n",
      "generate spectrograms\n",
      "No of CPUs : 24\n",
      "Feature Extraction..........................Feature Extraction..........................Feature Extraction..........................\n",
      "\n",
      "\n"
     ]
    },
    {
     "name": "stderr",
     "output_type": "stream",
     "text": [
      "Clipping input data to the valid range for imshow with RGB data ([0..1] for floats or [0..255] for integers).\n",
      "Clipping input data to the valid range for imshow with RGB data ([0..1] for floats or [0..255] for integers).\n",
      "Clipping input data to the valid range for imshow with RGB data ([0..1] for floats or [0..255] for integers).\n"
     ]
    },
    {
     "name": "stdout",
     "output_type": "stream",
     "text": [
      "r------------- :  209\n",
      "generate spectrograms\n",
      "No of CPUs : 24\n",
      "Feature Extraction..........................\n"
     ]
    },
    {
     "name": "stderr",
     "output_type": "stream",
     "text": [
      "Clipping input data to the valid range for imshow with RGB data ([0..1] for floats or [0..255] for integers).\n"
     ]
    },
    {
     "name": "stdout",
     "output_type": "stream",
     "text": [
      "r------------- :  210\n",
      "r------------- :  211\n",
      "r------------- :  212\n",
      "r------------- :  213\n",
      "r------------- :  214\n",
      "r------------- :  215\n",
      "r------------- :  216\n",
      "generate spectrograms\n",
      "No of CPUs : 24\n",
      "Feature Extraction..........................Feature Extraction..........................Feature Extraction..........................Feature Extraction..........................Feature Extraction..........................Feature Extraction..........................Feature Extraction..........................\n",
      "\n",
      "\n",
      "\n",
      "\n",
      "\n",
      "\n"
     ]
    },
    {
     "name": "stderr",
     "output_type": "stream",
     "text": [
      "Clipping input data to the valid range for imshow with RGB data ([0..1] for floats or [0..255] for integers).\n",
      "Clipping input data to the valid range for imshow with RGB data ([0..1] for floats or [0..255] for integers).\n",
      "Clipping input data to the valid range for imshow with RGB data ([0..1] for floats or [0..255] for integers).\n",
      "Clipping input data to the valid range for imshow with RGB data ([0..1] for floats or [0..255] for integers).\n",
      "Clipping input data to the valid range for imshow with RGB data ([0..1] for floats or [0..255] for integers).\n",
      "Clipping input data to the valid range for imshow with RGB data ([0..1] for floats or [0..255] for integers).\n",
      "Clipping input data to the valid range for imshow with RGB data ([0..1] for floats or [0..255] for integers).\n"
     ]
    },
    {
     "name": "stdout",
     "output_type": "stream",
     "text": [
      "r------------- :  217\n",
      "r------------- :  218\n",
      "r------------- :  219\n",
      "r------------- :  220\n",
      "r------------- :  221\n",
      "r------------- :  222\n",
      "generate spectrograms\n",
      "No of CPUs : 24\n",
      "Feature Extraction..........................Feature Extraction..........................Feature Extraction..........................Feature Extraction..........................Feature Extraction..........................Feature Extraction..........................\n",
      "\n",
      "\n",
      "\n",
      "\n",
      "\n"
     ]
    },
    {
     "name": "stderr",
     "output_type": "stream",
     "text": [
      "Clipping input data to the valid range for imshow with RGB data ([0..1] for floats or [0..255] for integers).\n",
      "Clipping input data to the valid range for imshow with RGB data ([0..1] for floats or [0..255] for integers).\n",
      "Clipping input data to the valid range for imshow with RGB data ([0..1] for floats or [0..255] for integers).\n",
      "Clipping input data to the valid range for imshow with RGB data ([0..1] for floats or [0..255] for integers).\n",
      "Clipping input data to the valid range for imshow with RGB data ([0..1] for floats or [0..255] for integers).\n",
      "Clipping input data to the valid range for imshow with RGB data ([0..1] for floats or [0..255] for integers).\n"
     ]
    },
    {
     "name": "stdout",
     "output_type": "stream",
     "text": [
      "r------------- :  223\n",
      "generate spectrograms\n",
      "No of CPUs : 24\n",
      "Feature Extraction..........................\n"
     ]
    },
    {
     "name": "stderr",
     "output_type": "stream",
     "text": [
      "Clipping input data to the valid range for imshow with RGB data ([0..1] for floats or [0..255] for integers).\n"
     ]
    },
    {
     "name": "stdout",
     "output_type": "stream",
     "text": [
      "r------------- :  224\n",
      "generate spectrograms\n",
      "No of CPUs : 24\n",
      "Feature Extraction..........................\n"
     ]
    },
    {
     "name": "stderr",
     "output_type": "stream",
     "text": [
      "Clipping input data to the valid range for imshow with RGB data ([0..1] for floats or [0..255] for integers).\n"
     ]
    },
    {
     "name": "stdout",
     "output_type": "stream",
     "text": [
      "r------------- :  225\n",
      "generate spectrograms\n",
      "No of CPUs : 24\n",
      "Feature Extraction..........................\n"
     ]
    },
    {
     "name": "stderr",
     "output_type": "stream",
     "text": [
      "Clipping input data to the valid range for imshow with RGB data ([0..1] for floats or [0..255] for integers).\n"
     ]
    },
    {
     "name": "stdout",
     "output_type": "stream",
     "text": [
      "r------------- :  226\n",
      "r------------- :  227\n",
      "generate spectrograms\n",
      "No of CPUs : 24\n",
      "Feature Extraction..........................\n",
      "Feature Extraction..........................\n"
     ]
    },
    {
     "name": "stderr",
     "output_type": "stream",
     "text": [
      "Clipping input data to the valid range for imshow with RGB data ([0..1] for floats or [0..255] for integers).\n",
      "Clipping input data to the valid range for imshow with RGB data ([0..1] for floats or [0..255] for integers).\n"
     ]
    },
    {
     "name": "stdout",
     "output_type": "stream",
     "text": [
      "r------------- :  228\n",
      "r------------- :  229\n",
      "r------------- :  230\n",
      "r------------- :  231\n",
      "generate spectrograms\n",
      "No of CPUs : 24\n",
      "Feature Extraction..........................Feature Extraction..........................Feature Extraction..........................Feature Extraction..........................\n",
      "\n",
      "\n",
      "\n"
     ]
    },
    {
     "name": "stderr",
     "output_type": "stream",
     "text": [
      "Clipping input data to the valid range for imshow with RGB data ([0..1] for floats or [0..255] for integers).\n",
      "Clipping input data to the valid range for imshow with RGB data ([0..1] for floats or [0..255] for integers).\n",
      "Clipping input data to the valid range for imshow with RGB data ([0..1] for floats or [0..255] for integers).\n",
      "Clipping input data to the valid range for imshow with RGB data ([0..1] for floats or [0..255] for integers).\n"
     ]
    },
    {
     "name": "stdout",
     "output_type": "stream",
     "text": [
      "r------------- :  232\n",
      "generate spectrograms\n",
      "No of CPUs : 24\n",
      "Feature Extraction..........................\n"
     ]
    },
    {
     "name": "stderr",
     "output_type": "stream",
     "text": [
      "Clipping input data to the valid range for imshow with RGB data ([0..1] for floats or [0..255] for integers).\n"
     ]
    },
    {
     "name": "stdout",
     "output_type": "stream",
     "text": [
      "r------------- :  233\n",
      "r------------- :  234\n",
      "r------------- :  235\n",
      "r------------- :  236\n",
      "generate spectrograms\n",
      "No of CPUs : 24\n",
      "Feature Extraction..........................\n",
      "Feature Extraction..........................Feature Extraction..........................Feature Extraction..........................\n",
      "\n",
      "\n"
     ]
    },
    {
     "name": "stderr",
     "output_type": "stream",
     "text": [
      "Clipping input data to the valid range for imshow with RGB data ([0..1] for floats or [0..255] for integers).\n",
      "Clipping input data to the valid range for imshow with RGB data ([0..1] for floats or [0..255] for integers).\n",
      "Clipping input data to the valid range for imshow with RGB data ([0..1] for floats or [0..255] for integers).\n",
      "Clipping input data to the valid range for imshow with RGB data ([0..1] for floats or [0..255] for integers).\n"
     ]
    },
    {
     "name": "stdout",
     "output_type": "stream",
     "text": [
      "r------------- :  237\n",
      "r------------- :  238\n",
      "r------------- :  239\n",
      "r------------- :  240\n",
      "r------------- :  241\n",
      "r------------- :  242\n",
      "r------------- :  243\n",
      "r------------- :  244\n",
      "r------------- :  245\n",
      "r------------- :  246\n",
      "r------------- :  247\n",
      "r------------- :  248\n",
      "generate spectrograms\n",
      "No of CPUs : 24\n",
      "Feature Extraction..........................Feature Extraction..........................Feature Extraction..........................Feature Extraction..........................Feature Extraction..........................Feature Extraction..........................Feature Extraction..........................\n",
      "Feature Extraction..........................Feature Extraction..........................Feature Extraction..........................\n",
      "\n",
      "\n",
      "\n",
      "Feature Extraction..........................Feature Extraction..........................\n",
      "\n",
      "\n",
      "\n",
      "\n",
      "\n",
      "\n"
     ]
    },
    {
     "name": "stderr",
     "output_type": "stream",
     "text": [
      "Clipping input data to the valid range for imshow with RGB data ([0..1] for floats or [0..255] for integers).\n",
      "Clipping input data to the valid range for imshow with RGB data ([0..1] for floats or [0..255] for integers).\n",
      "Clipping input data to the valid range for imshow with RGB data ([0..1] for floats or [0..255] for integers).\n",
      "Clipping input data to the valid range for imshow with RGB data ([0..1] for floats or [0..255] for integers).\n",
      "Clipping input data to the valid range for imshow with RGB data ([0..1] for floats or [0..255] for integers).\n",
      "Clipping input data to the valid range for imshow with RGB data ([0..1] for floats or [0..255] for integers).\n",
      "Clipping input data to the valid range for imshow with RGB data ([0..1] for floats or [0..255] for integers).\n",
      "Clipping input data to the valid range for imshow with RGB data ([0..1] for floats or [0..255] for integers).\n",
      "Clipping input data to the valid range for imshow with RGB data ([0..1] for floats or [0..255] for integers).\n",
      "Clipping input data to the valid range for imshow with RGB data ([0..1] for floats or [0..255] for integers).\n",
      "Clipping input data to the valid range for imshow with RGB data ([0..1] for floats or [0..255] for integers).\n",
      "Clipping input data to the valid range for imshow with RGB data ([0..1] for floats or [0..255] for integers).\n"
     ]
    },
    {
     "name": "stdout",
     "output_type": "stream",
     "text": [
      "r------------- :  249\n",
      "r------------- :  250\n",
      "r------------- :  251\n",
      "r------------- :  252\n",
      "r------------- :  253\n",
      "r------------- :  254\n",
      "r------------- :  255\n",
      "r------------- :  256\n",
      "r------------- :  257\n",
      "r------------- :  258\n",
      "r------------- :  259\n",
      "generate spectrograms\n",
      "No of CPUs : 24\n",
      "Feature Extraction..........................Feature Extraction..........................Feature Extraction..........................Feature Extraction..........................Feature Extraction..........................Feature Extraction..........................Feature Extraction..........................Feature Extraction..........................Feature Extraction..........................Feature Extraction..........................Feature Extraction..........................\n",
      "\n",
      "\n",
      "\n",
      "\n",
      "\n",
      "\n",
      "\n",
      "\n",
      "\n",
      "\n"
     ]
    },
    {
     "name": "stderr",
     "output_type": "stream",
     "text": [
      "Clipping input data to the valid range for imshow with RGB data ([0..1] for floats or [0..255] for integers).\n",
      "Clipping input data to the valid range for imshow with RGB data ([0..1] for floats or [0..255] for integers).\n",
      "Clipping input data to the valid range for imshow with RGB data ([0..1] for floats or [0..255] for integers).\n",
      "Clipping input data to the valid range for imshow with RGB data ([0..1] for floats or [0..255] for integers).\n",
      "Clipping input data to the valid range for imshow with RGB data ([0..1] for floats or [0..255] for integers).\n",
      "Clipping input data to the valid range for imshow with RGB data ([0..1] for floats or [0..255] for integers).\n",
      "Clipping input data to the valid range for imshow with RGB data ([0..1] for floats or [0..255] for integers).\n",
      "Clipping input data to the valid range for imshow with RGB data ([0..1] for floats or [0..255] for integers).\n",
      "Clipping input data to the valid range for imshow with RGB data ([0..1] for floats or [0..255] for integers).\n",
      "Clipping input data to the valid range for imshow with RGB data ([0..1] for floats or [0..255] for integers).\n",
      "Clipping input data to the valid range for imshow with RGB data ([0..1] for floats or [0..255] for integers).\n"
     ]
    },
    {
     "name": "stdout",
     "output_type": "stream",
     "text": [
      "r------------- :  260\n",
      "r------------- :  261\n",
      "r------------- :  262\n",
      "r------------- :  263\n",
      "r------------- :  264\n",
      "r------------- :  265\n",
      "r------------- :  266\n",
      "r------------- :  267\n",
      "r------------- :  268\n",
      "r------------- :  269\n",
      "r------------- :  270\n",
      "r------------- :  271\n",
      "r------------- :  272\n",
      "r------------- :  273\n",
      "r------------- :  274\n",
      "generate spectrograms\n",
      "No of CPUs : 24\n",
      "Feature Extraction..........................Feature Extraction..........................Feature Extraction..........................Feature Extraction..........................Feature Extraction..........................Feature Extraction..........................Feature Extraction..........................Feature Extraction..........................Feature Extraction..........................Feature Extraction..........................Feature Extraction..........................Feature Extraction..........................Feature Extraction..........................Feature Extraction..........................Feature Extraction..........................\n",
      "\n",
      "\n",
      "\n",
      "\n",
      "\n",
      "\n",
      "\n",
      "\n",
      "\n",
      "\n",
      "\n",
      "\n",
      "\n",
      "\n"
     ]
    },
    {
     "name": "stderr",
     "output_type": "stream",
     "text": [
      "Clipping input data to the valid range for imshow with RGB data ([0..1] for floats or [0..255] for integers).\n",
      "Clipping input data to the valid range for imshow with RGB data ([0..1] for floats or [0..255] for integers).\n",
      "Clipping input data to the valid range for imshow with RGB data ([0..1] for floats or [0..255] for integers).\n",
      "Clipping input data to the valid range for imshow with RGB data ([0..1] for floats or [0..255] for integers).\n",
      "Clipping input data to the valid range for imshow with RGB data ([0..1] for floats or [0..255] for integers).\n",
      "Clipping input data to the valid range for imshow with RGB data ([0..1] for floats or [0..255] for integers).\n",
      "Clipping input data to the valid range for imshow with RGB data ([0..1] for floats or [0..255] for integers).\n",
      "Clipping input data to the valid range for imshow with RGB data ([0..1] for floats or [0..255] for integers).\n",
      "Clipping input data to the valid range for imshow with RGB data ([0..1] for floats or [0..255] for integers).\n",
      "Clipping input data to the valid range for imshow with RGB data ([0..1] for floats or [0..255] for integers).\n",
      "Clipping input data to the valid range for imshow with RGB data ([0..1] for floats or [0..255] for integers).\n",
      "Clipping input data to the valid range for imshow with RGB data ([0..1] for floats or [0..255] for integers).\n",
      "Clipping input data to the valid range for imshow with RGB data ([0..1] for floats or [0..255] for integers).\n",
      "Clipping input data to the valid range for imshow with RGB data ([0..1] for floats or [0..255] for integers).\n",
      "Clipping input data to the valid range for imshow with RGB data ([0..1] for floats or [0..255] for integers).\n"
     ]
    },
    {
     "name": "stdout",
     "output_type": "stream",
     "text": [
      "r------------- :  275\n",
      "generate spectrograms\n",
      "No of CPUs : 24\n",
      "Feature Extraction..........................\n"
     ]
    },
    {
     "name": "stderr",
     "output_type": "stream",
     "text": [
      "Clipping input data to the valid range for imshow with RGB data ([0..1] for floats or [0..255] for integers).\n"
     ]
    },
    {
     "name": "stdout",
     "output_type": "stream",
     "text": [
      "r------------- :  276\n",
      "r------------- :  277\n",
      "generate spectrograms\n",
      "No of CPUs : 24\n",
      "Feature Extraction..........................\n",
      "Feature Extraction..........................\n"
     ]
    },
    {
     "name": "stderr",
     "output_type": "stream",
     "text": [
      "Clipping input data to the valid range for imshow with RGB data ([0..1] for floats or [0..255] for integers).\n",
      "Clipping input data to the valid range for imshow with RGB data ([0..1] for floats or [0..255] for integers).\n"
     ]
    },
    {
     "name": "stdout",
     "output_type": "stream",
     "text": [
      "r------------- :  278\n",
      "generate spectrograms\n",
      "No of CPUs : 24\n",
      "Feature Extraction..........................\n"
     ]
    },
    {
     "name": "stderr",
     "output_type": "stream",
     "text": [
      "Clipping input data to the valid range for imshow with RGB data ([0..1] for floats or [0..255] for integers).\n"
     ]
    },
    {
     "name": "stdout",
     "output_type": "stream",
     "text": [
      "r------------- :  279\n",
      "generate spectrograms\n",
      "No of CPUs : 24\n",
      "Feature Extraction..........................\n"
     ]
    },
    {
     "name": "stderr",
     "output_type": "stream",
     "text": [
      "Clipping input data to the valid range for imshow with RGB data ([0..1] for floats or [0..255] for integers).\n"
     ]
    },
    {
     "name": "stdout",
     "output_type": "stream",
     "text": [
      "r------------- :  280\n",
      "r------------- :  281\n",
      "generate spectrograms\n",
      "No of CPUs : 24\n",
      "Feature Extraction..........................\n",
      "Feature Extraction..........................\n"
     ]
    },
    {
     "name": "stderr",
     "output_type": "stream",
     "text": [
      "Clipping input data to the valid range for imshow with RGB data ([0..1] for floats or [0..255] for integers).\n",
      "Clipping input data to the valid range for imshow with RGB data ([0..1] for floats or [0..255] for integers).\n"
     ]
    },
    {
     "name": "stdout",
     "output_type": "stream",
     "text": [
      "r------------- :  282\n",
      "generate spectrograms\n",
      "No of CPUs : 24\n",
      "Feature Extraction..........................\n"
     ]
    },
    {
     "name": "stderr",
     "output_type": "stream",
     "text": [
      "Clipping input data to the valid range for imshow with RGB data ([0..1] for floats or [0..255] for integers).\n"
     ]
    },
    {
     "name": "stdout",
     "output_type": "stream",
     "text": [
      "r------------- :  283\n",
      "r------------- :  284\n",
      "generate spectrograms\n",
      "No of CPUs : 24\n",
      "Feature Extraction..........................\n",
      "Feature Extraction..........................\n"
     ]
    },
    {
     "name": "stderr",
     "output_type": "stream",
     "text": [
      "Clipping input data to the valid range for imshow with RGB data ([0..1] for floats or [0..255] for integers).\n",
      "Clipping input data to the valid range for imshow with RGB data ([0..1] for floats or [0..255] for integers).\n"
     ]
    },
    {
     "name": "stdout",
     "output_type": "stream",
     "text": [
      "r------------- :  285\n",
      "generate spectrograms\n",
      "No of CPUs : 24\n",
      "Feature Extraction..........................\n"
     ]
    },
    {
     "name": "stderr",
     "output_type": "stream",
     "text": [
      "Clipping input data to the valid range for imshow with RGB data ([0..1] for floats or [0..255] for integers).\n"
     ]
    },
    {
     "name": "stdout",
     "output_type": "stream",
     "text": [
      "r------------- :  286\n",
      "r------------- :  287\n",
      "r------------- :  288\n",
      "r------------- :  289\n",
      "r------------- :  290\n",
      "r------------- :  291\n",
      "r------------- :  292\n",
      "r------------- :  293\n",
      "r------------- :  294\n",
      "generate spectrograms\n",
      "No of CPUs : 24\n",
      "Feature Extraction..........................Feature Extraction..........................Feature Extraction..........................Feature Extraction..........................Feature Extraction..........................Feature Extraction..........................Feature Extraction..........................Feature Extraction..........................Feature Extraction..........................\n",
      "\n",
      "\n",
      "\n",
      "\n",
      "\n",
      "\n",
      "\n",
      "\n"
     ]
    },
    {
     "name": "stderr",
     "output_type": "stream",
     "text": [
      "Clipping input data to the valid range for imshow with RGB data ([0..1] for floats or [0..255] for integers).\n",
      "Clipping input data to the valid range for imshow with RGB data ([0..1] for floats or [0..255] for integers).\n",
      "Clipping input data to the valid range for imshow with RGB data ([0..1] for floats or [0..255] for integers).\n",
      "Clipping input data to the valid range for imshow with RGB data ([0..1] for floats or [0..255] for integers).\n",
      "Clipping input data to the valid range for imshow with RGB data ([0..1] for floats or [0..255] for integers).\n",
      "Clipping input data to the valid range for imshow with RGB data ([0..1] for floats or [0..255] for integers).\n",
      "Clipping input data to the valid range for imshow with RGB data ([0..1] for floats or [0..255] for integers).\n",
      "Clipping input data to the valid range for imshow with RGB data ([0..1] for floats or [0..255] for integers).\n",
      "Clipping input data to the valid range for imshow with RGB data ([0..1] for floats or [0..255] for integers).\n"
     ]
    },
    {
     "name": "stdout",
     "output_type": "stream",
     "text": [
      "r------------- :  295\n",
      "r------------- :  296\n",
      "r------------- :  297\n",
      "generate spectrograms\n",
      "No of CPUs : 24\n",
      "Feature Extraction..........................\n",
      "Feature Extraction..........................Feature Extraction..........................\n",
      "\n"
     ]
    },
    {
     "name": "stderr",
     "output_type": "stream",
     "text": [
      "Clipping input data to the valid range for imshow with RGB data ([0..1] for floats or [0..255] for integers).\n",
      "Clipping input data to the valid range for imshow with RGB data ([0..1] for floats or [0..255] for integers).\n",
      "Clipping input data to the valid range for imshow with RGB data ([0..1] for floats or [0..255] for integers).\n"
     ]
    },
    {
     "name": "stdout",
     "output_type": "stream",
     "text": [
      "r------------- :  298\n",
      "r------------- :  299\n",
      "r------------- :  300\n",
      "r------------- :  301\n",
      "r------------- :  302\n",
      "r------------- :  303\n",
      "r------------- :  304\n",
      "r------------- :  305\n",
      "r------------- :  306\n",
      "r------------- :  307\n",
      "r------------- :  308\n",
      "r------------- :  309\n",
      "r------------- :  310\n",
      "r------------- :  311\n",
      "r------------- :  312\n",
      "generate spectrograms\n",
      "No of CPUs : 24\n",
      "Feature Extraction..........................Feature Extraction..........................Feature Extraction..........................Feature Extraction..........................Feature Extraction..........................Feature Extraction..........................Feature Extraction..........................Feature Extraction..........................Feature Extraction..........................Feature Extraction..........................Feature Extraction..........................Feature Extraction..........................Feature Extraction..........................Feature Extraction..........................Feature Extraction..........................\n",
      "\n",
      "\n",
      "\n",
      "\n",
      "\n",
      "\n",
      "\n",
      "\n",
      "\n",
      "\n",
      "\n",
      "\n",
      "\n",
      "\n"
     ]
    },
    {
     "name": "stderr",
     "output_type": "stream",
     "text": [
      "Clipping input data to the valid range for imshow with RGB data ([0..1] for floats or [0..255] for integers).\n",
      "Clipping input data to the valid range for imshow with RGB data ([0..1] for floats or [0..255] for integers).\n",
      "Clipping input data to the valid range for imshow with RGB data ([0..1] for floats or [0..255] for integers).\n",
      "Clipping input data to the valid range for imshow with RGB data ([0..1] for floats or [0..255] for integers).\n",
      "Clipping input data to the valid range for imshow with RGB data ([0..1] for floats or [0..255] for integers).\n",
      "Clipping input data to the valid range for imshow with RGB data ([0..1] for floats or [0..255] for integers).\n",
      "Clipping input data to the valid range for imshow with RGB data ([0..1] for floats or [0..255] for integers).\n",
      "Clipping input data to the valid range for imshow with RGB data ([0..1] for floats or [0..255] for integers).\n",
      "Clipping input data to the valid range for imshow with RGB data ([0..1] for floats or [0..255] for integers).\n",
      "Clipping input data to the valid range for imshow with RGB data ([0..1] for floats or [0..255] for integers).\n",
      "Clipping input data to the valid range for imshow with RGB data ([0..1] for floats or [0..255] for integers).\n",
      "Clipping input data to the valid range for imshow with RGB data ([0..1] for floats or [0..255] for integers).\n",
      "Clipping input data to the valid range for imshow with RGB data ([0..1] for floats or [0..255] for integers).\n",
      "Clipping input data to the valid range for imshow with RGB data ([0..1] for floats or [0..255] for integers).\n",
      "Clipping input data to the valid range for imshow with RGB data ([0..1] for floats or [0..255] for integers).\n"
     ]
    },
    {
     "name": "stdout",
     "output_type": "stream",
     "text": [
      "r------------- :  313\n",
      "r------------- :  314\n",
      "r------------- :  315\n",
      "r------------- :  316\n",
      "r------------- :  317\n",
      "r------------- :  318\n",
      "r------------- :  319\n",
      "r------------- :  320\n",
      "r------------- :  321\n",
      "r------------- :  322\n",
      "r------------- :  323\n",
      "r------------- :  324\n",
      "r------------- :  325\n",
      "r------------- :  326\n",
      "r------------- :  327\n",
      "generate spectrograms\n",
      "No of CPUs : 24\n",
      "Feature Extraction..........................Feature Extraction..........................Feature Extraction..........................Feature Extraction..........................Feature Extraction..........................Feature Extraction..........................Feature Extraction..........................Feature Extraction..........................Feature Extraction..........................Feature Extraction..........................Feature Extraction..........................Feature Extraction..........................Feature Extraction..........................Feature Extraction..........................Feature Extraction..........................\n",
      "\n",
      "\n",
      "\n",
      "\n",
      "\n",
      "\n",
      "\n",
      "\n",
      "\n",
      "\n",
      "\n",
      "\n",
      "\n",
      "\n"
     ]
    },
    {
     "name": "stderr",
     "output_type": "stream",
     "text": [
      "Clipping input data to the valid range for imshow with RGB data ([0..1] for floats or [0..255] for integers).\n",
      "Clipping input data to the valid range for imshow with RGB data ([0..1] for floats or [0..255] for integers).\n",
      "Clipping input data to the valid range for imshow with RGB data ([0..1] for floats or [0..255] for integers).\n",
      "Clipping input data to the valid range for imshow with RGB data ([0..1] for floats or [0..255] for integers).\n",
      "Clipping input data to the valid range for imshow with RGB data ([0..1] for floats or [0..255] for integers).\n",
      "Clipping input data to the valid range for imshow with RGB data ([0..1] for floats or [0..255] for integers).\n",
      "Clipping input data to the valid range for imshow with RGB data ([0..1] for floats or [0..255] for integers).\n",
      "Clipping input data to the valid range for imshow with RGB data ([0..1] for floats or [0..255] for integers).\n",
      "Clipping input data to the valid range for imshow with RGB data ([0..1] for floats or [0..255] for integers).\n",
      "Clipping input data to the valid range for imshow with RGB data ([0..1] for floats or [0..255] for integers).\n",
      "Clipping input data to the valid range for imshow with RGB data ([0..1] for floats or [0..255] for integers).\n",
      "Clipping input data to the valid range for imshow with RGB data ([0..1] for floats or [0..255] for integers).\n",
      "Clipping input data to the valid range for imshow with RGB data ([0..1] for floats or [0..255] for integers).\n",
      "Clipping input data to the valid range for imshow with RGB data ([0..1] for floats or [0..255] for integers).\n",
      "Clipping input data to the valid range for imshow with RGB data ([0..1] for floats or [0..255] for integers).\n"
     ]
    },
    {
     "name": "stdout",
     "output_type": "stream",
     "text": [
      "r------------- :  328\n",
      "generate spectrograms\n",
      "No of CPUs : 24\n",
      "Feature Extraction..........................\n"
     ]
    },
    {
     "name": "stderr",
     "output_type": "stream",
     "text": [
      "Clipping input data to the valid range for imshow with RGB data ([0..1] for floats or [0..255] for integers).\n"
     ]
    },
    {
     "name": "stdout",
     "output_type": "stream",
     "text": [
      "r------------- :  329\n",
      "generate spectrograms\n",
      "No of CPUs : 24\n",
      "Feature Extraction..........................\n"
     ]
    },
    {
     "name": "stderr",
     "output_type": "stream",
     "text": [
      "Clipping input data to the valid range for imshow with RGB data ([0..1] for floats or [0..255] for integers).\n"
     ]
    },
    {
     "name": "stdout",
     "output_type": "stream",
     "text": [
      "r------------- :  330\n",
      "generate spectrograms\n",
      "No of CPUs : 24\n",
      "Feature Extraction..........................\n"
     ]
    },
    {
     "name": "stderr",
     "output_type": "stream",
     "text": [
      "Clipping input data to the valid range for imshow with RGB data ([0..1] for floats or [0..255] for integers).\n"
     ]
    },
    {
     "name": "stdout",
     "output_type": "stream",
     "text": [
      "r------------- :  331\n",
      "r------------- :  332\n",
      "r------------- :  333\n",
      "generate spectrograms\n",
      "No of CPUs : 24\n",
      "Feature Extraction..........................\n",
      "Feature Extraction..........................Feature Extraction..........................\n",
      "\n"
     ]
    },
    {
     "name": "stderr",
     "output_type": "stream",
     "text": [
      "Clipping input data to the valid range for imshow with RGB data ([0..1] for floats or [0..255] for integers).\n",
      "Clipping input data to the valid range for imshow with RGB data ([0..1] for floats or [0..255] for integers).\n",
      "Clipping input data to the valid range for imshow with RGB data ([0..1] for floats or [0..255] for integers).\n"
     ]
    },
    {
     "name": "stdout",
     "output_type": "stream",
     "text": [
      "r------------- :  334\n",
      "r------------- :  335\n",
      "r------------- :  336\n",
      "r------------- :  337\n",
      "generate spectrograms\n",
      "No of CPUs : 24\n",
      "Feature Extraction..........................Feature Extraction..........................Feature Extraction..........................Feature Extraction..........................\n",
      "\n",
      "\n",
      "\n"
     ]
    },
    {
     "name": "stderr",
     "output_type": "stream",
     "text": [
      "Clipping input data to the valid range for imshow with RGB data ([0..1] for floats or [0..255] for integers).\n",
      "Clipping input data to the valid range for imshow with RGB data ([0..1] for floats or [0..255] for integers).\n",
      "Clipping input data to the valid range for imshow with RGB data ([0..1] for floats or [0..255] for integers).\n",
      "Clipping input data to the valid range for imshow with RGB data ([0..1] for floats or [0..255] for integers).\n"
     ]
    },
    {
     "name": "stdout",
     "output_type": "stream",
     "text": [
      "r------------- :  338\n",
      "generate spectrograms\n",
      "No of CPUs : 24\n",
      "Feature Extraction..........................\n"
     ]
    },
    {
     "name": "stderr",
     "output_type": "stream",
     "text": [
      "Clipping input data to the valid range for imshow with RGB data ([0..1] for floats or [0..255] for integers).\n"
     ]
    },
    {
     "name": "stdout",
     "output_type": "stream",
     "text": [
      "r------------- :  339\n",
      "r------------- :  340\n",
      "r------------- :  341\n",
      "r------------- :  342\n",
      "r------------- :  343\n",
      "r------------- :  344\n",
      "r------------- :  345\n",
      "r------------- :  346\n",
      "r------------- :  347\n",
      "r------------- :  348\n",
      "r------------- :  349\n",
      "r------------- :  350\n",
      "r------------- :  351\n",
      "r------------- :  352\n",
      "r------------- :  353\n",
      "r------------- :  354\n",
      "r------------- :  355\n",
      "r------------- :  356\n",
      "r------------- :  357\n",
      "r------------- :  358\n",
      "r------------- :  359\n",
      "r------------- :  360\n",
      "r------------- :  361\n",
      "r------------- :  362\n",
      "r------------- :  363\n",
      "r------------- :  364\n",
      "r------------- :  365\n",
      "r------------- :  366\n",
      "r------------- :  367\n",
      "r------------- :  368\n",
      "r------------- :  369\n",
      "r------------- :  370\n",
      "r------------- :  371\n",
      "r------------- :  372\n",
      "r------------- :  373\n",
      "r------------- :  374\n",
      "r------------- :  375\n",
      "r------------- :  376\n",
      "r------------- :  377\n",
      "r------------- :  378\n",
      "r------------- :  379\n",
      "r------------- :  380\n",
      "r------------- :  381\n",
      "r------------- :  382\n",
      "r------------- :  383\n",
      "r------------- :  384\n",
      "r------------- :  385\n",
      "r------------- :  386\n",
      "r------------- :  387\n",
      "r------------- :  388\n",
      "r------------- :  389\n",
      "r------------- :  390\n",
      "r------------- :  391\n",
      "r------------- :  392\n",
      "r------------- :  393\n",
      "r------------- :  394\n",
      "r------------- :  395\n",
      "r------------- :  396\n",
      "r------------- :  397\n",
      "r------------- :  398\n",
      "r------------- :  399\n",
      "r------------- :  400\n",
      "r------------- :  401\n",
      "r------------- :  402\n",
      "r------------- :  403\n",
      "r------------- :  404\n",
      "r------------- :  405\n",
      "r------------- :  406\n",
      "r------------- :  407\n",
      "r------------- :  408\n",
      "r------------- :  409\n",
      "r------------- :  410\n",
      "r------------- :  411\n",
      "r------------- :  412\n",
      "r------------- :  413\n",
      "r------------- :  414\n",
      "r------------- :  415\n",
      "r------------- :  416\n",
      "r------------- :  417\n",
      "r------------- :  418\n",
      "r------------- :  419\n",
      "r------------- :  420\n",
      "r------------- :  421\n",
      "r------------- :  422\n",
      "r------------- :  423\n",
      "r------------- :  424\n",
      "r------------- :  425\n",
      "r------------- :  426\n",
      "r------------- :  427\n",
      "r------------- :  428\n",
      "generate spectrograms\n",
      "No of CPUs : 24\n",
      "Feature Extraction..........................\n",
      "Feature Extraction..........................\n",
      "Feature Extraction..........................Feature Extraction..........................Feature Extraction..........................Feature Extraction..........................\n",
      "\n",
      "\n",
      "Feature Extraction..........................\n",
      "Feature Extraction..........................Feature Extraction..........................\n",
      "Feature Extraction..........................Feature Extraction..........................Feature Extraction..........................\n",
      "Feature Extraction..........................\n",
      "Feature Extraction..........................\n",
      "\n",
      "Feature Extraction..........................\n",
      "\n",
      "Feature Extraction..........................Feature Extraction..........................Feature Extraction..........................\n",
      "Feature Extraction..........................Feature Extraction..........................Feature Extraction..........................Feature Extraction..........................Feature Extraction..........................\n",
      "Feature Extraction..........................\n",
      "\n",
      "\n",
      "\n",
      "\n",
      "\n",
      "\n",
      "\n",
      "\n"
     ]
    },
    {
     "name": "stderr",
     "output_type": "stream",
     "text": [
      "Clipping input data to the valid range for imshow with RGB data ([0..1] for floats or [0..255] for integers).\n",
      "Clipping input data to the valid range for imshow with RGB data ([0..1] for floats or [0..255] for integers).\n",
      "Clipping input data to the valid range for imshow with RGB data ([0..1] for floats or [0..255] for integers).\n",
      "Clipping input data to the valid range for imshow with RGB data ([0..1] for floats or [0..255] for integers).\n",
      "Clipping input data to the valid range for imshow with RGB data ([0..1] for floats or [0..255] for integers).\n",
      "Clipping input data to the valid range for imshow with RGB data ([0..1] for floats or [0..255] for integers).\n",
      "Clipping input data to the valid range for imshow with RGB data ([0..1] for floats or [0..255] for integers).\n",
      "Clipping input data to the valid range for imshow with RGB data ([0..1] for floats or [0..255] for integers).\n",
      "Clipping input data to the valid range for imshow with RGB data ([0..1] for floats or [0..255] for integers).\n",
      "Clipping input data to the valid range for imshow with RGB data ([0..1] for floats or [0..255] for integers).\n",
      "Clipping input data to the valid range for imshow with RGB data ([0..1] for floats or [0..255] for integers).\n",
      "Clipping input data to the valid range for imshow with RGB data ([0..1] for floats or [0..255] for integers).\n",
      "Clipping input data to the valid range for imshow with RGB data ([0..1] for floats or [0..255] for integers).\n",
      "Clipping input data to the valid range for imshow with RGB data ([0..1] for floats or [0..255] for integers).\n",
      "Clipping input data to the valid range for imshow with RGB data ([0..1] for floats or [0..255] for integers).\n",
      "Clipping input data to the valid range for imshow with RGB data ([0..1] for floats or [0..255] for integers).\n",
      "Clipping input data to the valid range for imshow with RGB data ([0..1] for floats or [0..255] for integers).\n",
      "Clipping input data to the valid range for imshow with RGB data ([0..1] for floats or [0..255] for integers).\n",
      "Clipping input data to the valid range for imshow with RGB data ([0..1] for floats or [0..255] for integers).\n",
      "Clipping input data to the valid range for imshow with RGB data ([0..1] for floats or [0..255] for integers).\n",
      "Clipping input data to the valid range for imshow with RGB data ([0..1] for floats or [0..255] for integers).\n",
      "Clipping input data to the valid range for imshow with RGB data ([0..1] for floats or [0..255] for integers).\n",
      "Clipping input data to the valid range for imshow with RGB data ([0..1] for floats or [0..255] for integers).\n",
      "Clipping input data to the valid range for imshow with RGB data ([0..1] for floats or [0..255] for integers).\n"
     ]
    },
    {
     "name": "stdout",
     "output_type": "stream",
     "text": [
      "Feature Extraction..........................\n",
      "Feature Extraction..........................Feature Extraction..........................Feature Extraction..........................\n",
      "\n",
      "Feature Extraction..........................Feature Extraction..........................\n",
      "Feature Extraction..........................\n",
      "\n",
      "Feature Extraction..........................Feature Extraction..........................\n",
      "Feature Extraction..........................Feature Extraction..........................Feature Extraction..........................\n",
      "\n",
      "Feature Extraction..........................Feature Extraction..........................\n",
      "\n",
      "\n",
      "Feature Extraction..........................Feature Extraction..........................\n",
      "Feature Extraction..........................\n",
      "Feature Extraction..........................Feature Extraction..........................Feature Extraction..........................Feature Extraction..........................\n",
      "Feature Extraction..........................\n",
      "Feature Extraction..........................\n",
      "Feature Extraction..........................\n",
      "\n",
      "\n",
      "\n",
      "\n",
      "\n",
      "\n"
     ]
    },
    {
     "name": "stderr",
     "output_type": "stream",
     "text": [
      "Clipping input data to the valid range for imshow with RGB data ([0..1] for floats or [0..255] for integers).\n",
      "Clipping input data to the valid range for imshow with RGB data ([0..1] for floats or [0..255] for integers).\n",
      "Clipping input data to the valid range for imshow with RGB data ([0..1] for floats or [0..255] for integers).\n",
      "Clipping input data to the valid range for imshow with RGB data ([0..1] for floats or [0..255] for integers).\n",
      "Clipping input data to the valid range for imshow with RGB data ([0..1] for floats or [0..255] for integers).\n",
      "Clipping input data to the valid range for imshow with RGB data ([0..1] for floats or [0..255] for integers).\n",
      "Clipping input data to the valid range for imshow with RGB data ([0..1] for floats or [0..255] for integers).\n",
      "Clipping input data to the valid range for imshow with RGB data ([0..1] for floats or [0..255] for integers).\n",
      "Clipping input data to the valid range for imshow with RGB data ([0..1] for floats or [0..255] for integers).\n",
      "Clipping input data to the valid range for imshow with RGB data ([0..1] for floats or [0..255] for integers).\n",
      "Clipping input data to the valid range for imshow with RGB data ([0..1] for floats or [0..255] for integers).\n",
      "Clipping input data to the valid range for imshow with RGB data ([0..1] for floats or [0..255] for integers).\n",
      "Clipping input data to the valid range for imshow with RGB data ([0..1] for floats or [0..255] for integers).\n",
      "Clipping input data to the valid range for imshow with RGB data ([0..1] for floats or [0..255] for integers).\n",
      "Clipping input data to the valid range for imshow with RGB data ([0..1] for floats or [0..255] for integers).\n",
      "Clipping input data to the valid range for imshow with RGB data ([0..1] for floats or [0..255] for integers).\n",
      "Clipping input data to the valid range for imshow with RGB data ([0..1] for floats or [0..255] for integers).\n",
      "Clipping input data to the valid range for imshow with RGB data ([0..1] for floats or [0..255] for integers).\n",
      "Clipping input data to the valid range for imshow with RGB data ([0..1] for floats or [0..255] for integers).\n",
      "Clipping input data to the valid range for imshow with RGB data ([0..1] for floats or [0..255] for integers).\n",
      "Clipping input data to the valid range for imshow with RGB data ([0..1] for floats or [0..255] for integers).\n",
      "Clipping input data to the valid range for imshow with RGB data ([0..1] for floats or [0..255] for integers).\n",
      "Clipping input data to the valid range for imshow with RGB data ([0..1] for floats or [0..255] for integers).\n",
      "Clipping input data to the valid range for imshow with RGB data ([0..1] for floats or [0..255] for integers).\n"
     ]
    },
    {
     "name": "stdout",
     "output_type": "stream",
     "text": [
      "Feature Extraction..........................\n",
      "Feature Extraction..........................Feature Extraction..........................\n",
      "\n",
      "Feature Extraction..........................\n",
      "Feature Extraction..........................\n",
      "Feature Extraction..........................Feature Extraction..........................\n",
      "Feature Extraction..........................Feature Extraction..........................\n",
      "Feature Extraction..........................Feature Extraction..........................\n",
      "Feature Extraction..........................\n",
      "\n",
      "Feature Extraction..........................\n",
      "Feature Extraction..........................Feature Extraction..........................\n",
      "Feature Extraction..........................\n",
      "Feature Extraction..........................Feature Extraction..........................Feature Extraction..........................\n",
      "Feature Extraction..........................\n",
      "\n",
      "Feature Extraction..........................Feature Extraction..........................\n",
      "Feature Extraction..........................\n",
      "\n",
      "Feature Extraction..........................\n",
      "\n",
      "\n",
      "\n",
      "\n"
     ]
    },
    {
     "name": "stderr",
     "output_type": "stream",
     "text": [
      "Clipping input data to the valid range for imshow with RGB data ([0..1] for floats or [0..255] for integers).\n",
      "Clipping input data to the valid range for imshow with RGB data ([0..1] for floats or [0..255] for integers).\n",
      "Clipping input data to the valid range for imshow with RGB data ([0..1] for floats or [0..255] for integers).\n",
      "Clipping input data to the valid range for imshow with RGB data ([0..1] for floats or [0..255] for integers).\n",
      "Clipping input data to the valid range for imshow with RGB data ([0..1] for floats or [0..255] for integers).\n",
      "Clipping input data to the valid range for imshow with RGB data ([0..1] for floats or [0..255] for integers).\n",
      "Clipping input data to the valid range for imshow with RGB data ([0..1] for floats or [0..255] for integers).\n",
      "Clipping input data to the valid range for imshow with RGB data ([0..1] for floats or [0..255] for integers).\n",
      "Clipping input data to the valid range for imshow with RGB data ([0..1] for floats or [0..255] for integers).\n",
      "Clipping input data to the valid range for imshow with RGB data ([0..1] for floats or [0..255] for integers).\n",
      "Clipping input data to the valid range for imshow with RGB data ([0..1] for floats or [0..255] for integers).\n",
      "Clipping input data to the valid range for imshow with RGB data ([0..1] for floats or [0..255] for integers).\n",
      "Clipping input data to the valid range for imshow with RGB data ([0..1] for floats or [0..255] for integers).\n",
      "Clipping input data to the valid range for imshow with RGB data ([0..1] for floats or [0..255] for integers).\n",
      "Clipping input data to the valid range for imshow with RGB data ([0..1] for floats or [0..255] for integers).\n",
      "Clipping input data to the valid range for imshow with RGB data ([0..1] for floats or [0..255] for integers).\n",
      "Clipping input data to the valid range for imshow with RGB data ([0..1] for floats or [0..255] for integers).\n",
      "Clipping input data to the valid range for imshow with RGB data ([0..1] for floats or [0..255] for integers).\n",
      "Clipping input data to the valid range for imshow with RGB data ([0..1] for floats or [0..255] for integers).\n",
      "Clipping input data to the valid range for imshow with RGB data ([0..1] for floats or [0..255] for integers).\n",
      "Clipping input data to the valid range for imshow with RGB data ([0..1] for floats or [0..255] for integers).\n",
      "Clipping input data to the valid range for imshow with RGB data ([0..1] for floats or [0..255] for integers).\n",
      "Clipping input data to the valid range for imshow with RGB data ([0..1] for floats or [0..255] for integers).\n",
      "Clipping input data to the valid range for imshow with RGB data ([0..1] for floats or [0..255] for integers).\n"
     ]
    },
    {
     "name": "stdout",
     "output_type": "stream",
     "text": [
      "Feature Extraction..........................\n",
      "Feature Extraction..........................Feature Extraction..........................\n",
      "\n",
      "Feature Extraction..........................Feature Extraction..........................\n",
      "\n",
      "Feature Extraction..........................\n",
      "Feature Extraction.........................."
     ]
    },
    {
     "name": "stderr",
     "output_type": "stream",
     "text": [
      "Clipping input data to the valid range for imshow with RGB data ([0..1] for floats or [0..255] for integers).\n"
     ]
    },
    {
     "name": "stdout",
     "output_type": "stream",
     "text": [
      "Feature Extraction..........................\n",
      "Feature Extraction..........................Feature Extraction..........................\n",
      "Feature Extraction..........................Feature Extraction..........................\n",
      "\n",
      "Feature Extraction..........................Feature Extraction..........................\n",
      "Feature Extraction..........................\n",
      "Feature Extraction..........................Feature Extraction..........................\n",
      "\n",
      "Feature Extraction..........................\n",
      "\n",
      "\n",
      "\n"
     ]
    },
    {
     "name": "stderr",
     "output_type": "stream",
     "text": [
      "Clipping input data to the valid range for imshow with RGB data ([0..1] for floats or [0..255] for integers).\n",
      "Clipping input data to the valid range for imshow with RGB data ([0..1] for floats or [0..255] for integers).\n",
      "Clipping input data to the valid range for imshow with RGB data ([0..1] for floats or [0..255] for integers).\n",
      "Clipping input data to the valid range for imshow with RGB data ([0..1] for floats or [0..255] for integers).\n",
      "Clipping input data to the valid range for imshow with RGB data ([0..1] for floats or [0..255] for integers).\n",
      "Clipping input data to the valid range for imshow with RGB data ([0..1] for floats or [0..255] for integers).\n",
      "Clipping input data to the valid range for imshow with RGB data ([0..1] for floats or [0..255] for integers).\n",
      "Clipping input data to the valid range for imshow with RGB data ([0..1] for floats or [0..255] for integers).\n",
      "Clipping input data to the valid range for imshow with RGB data ([0..1] for floats or [0..255] for integers).\n",
      "Clipping input data to the valid range for imshow with RGB data ([0..1] for floats or [0..255] for integers).\n",
      "Clipping input data to the valid range for imshow with RGB data ([0..1] for floats or [0..255] for integers).\n",
      "Clipping input data to the valid range for imshow with RGB data ([0..1] for floats or [0..255] for integers).\n",
      "Clipping input data to the valid range for imshow with RGB data ([0..1] for floats or [0..255] for integers).\n",
      "Clipping input data to the valid range for imshow with RGB data ([0..1] for floats or [0..255] for integers).\n",
      "Clipping input data to the valid range for imshow with RGB data ([0..1] for floats or [0..255] for integers).\n",
      "Clipping input data to the valid range for imshow with RGB data ([0..1] for floats or [0..255] for integers).\n",
      "Clipping input data to the valid range for imshow with RGB data ([0..1] for floats or [0..255] for integers).\n"
     ]
    },
    {
     "name": "stdout",
     "output_type": "stream",
     "text": [
      "r------------- :  429\n",
      "r------------- :  430\n",
      "r------------- :  431\n",
      "r------------- :  432\n",
      "r------------- :  433\n",
      "generate spectrograms\n",
      "No of CPUs : 24\n",
      "Feature Extraction..........................Feature Extraction..........................Feature Extraction..........................Feature Extraction..........................Feature Extraction..........................\n",
      "\n",
      "\n",
      "\n",
      "\n"
     ]
    },
    {
     "name": "stderr",
     "output_type": "stream",
     "text": [
      "Clipping input data to the valid range for imshow with RGB data ([0..1] for floats or [0..255] for integers).\n",
      "Clipping input data to the valid range for imshow with RGB data ([0..1] for floats or [0..255] for integers).\n",
      "Clipping input data to the valid range for imshow with RGB data ([0..1] for floats or [0..255] for integers).\n",
      "Clipping input data to the valid range for imshow with RGB data ([0..1] for floats or [0..255] for integers).\n",
      "Clipping input data to the valid range for imshow with RGB data ([0..1] for floats or [0..255] for integers).\n"
     ]
    },
    {
     "name": "stdout",
     "output_type": "stream",
     "text": [
      "r------------- :  434\n",
      "r------------- :  435\n",
      "r------------- :  436\n",
      "r------------- :  437\n",
      "r------------- :  438\n",
      "r------------- :  439\n",
      "r------------- :  440\n",
      "r------------- :  441\n",
      "r------------- :  442\n",
      "r------------- :  443\n",
      "r------------- :  444\n",
      "r------------- :  445\n",
      "r------------- :  446\n",
      "r------------- :  447\n",
      "r------------- :  448\n",
      "r------------- :  449\n",
      "r------------- :  450\n",
      "r------------- :  451\n",
      "r------------- :  452\n",
      "r------------- :  453\n",
      "r------------- :  454\n",
      "r------------- :  455\n",
      "r------------- :  456\n",
      "r------------- :  457\n",
      "r------------- :  458\n",
      "generate spectrograms\n",
      "No of CPUs : 24\n",
      "Feature Extraction..........................Feature Extraction..........................Feature Extraction..........................Feature Extraction..........................Feature Extraction..........................Feature Extraction..........................Feature Extraction..........................Feature Extraction..........................Feature Extraction..........................Feature Extraction..........................Feature Extraction..........................Feature Extraction..........................Feature Extraction..........................Feature Extraction..........................Feature Extraction..........................Feature Extraction..........................Feature Extraction..........................Feature Extraction..........................Feature Extraction..........................Feature Extraction..........................Feature Extraction..........................\n",
      "\n",
      "\n",
      "\n",
      "\n",
      "\n",
      "\n",
      "\n",
      "\n",
      "\n",
      "\n",
      "\n",
      "\n",
      "Feature Extraction..........................\n",
      "\n",
      "\n",
      "Feature Extraction..........................Feature Extraction..........................\n",
      "\n",
      "\n",
      "\n",
      "\n",
      "\n",
      "\n",
      "\n"
     ]
    },
    {
     "name": "stderr",
     "output_type": "stream",
     "text": [
      "Clipping input data to the valid range for imshow with RGB data ([0..1] for floats or [0..255] for integers).\n",
      "Clipping input data to the valid range for imshow with RGB data ([0..1] for floats or [0..255] for integers).\n",
      "Clipping input data to the valid range for imshow with RGB data ([0..1] for floats or [0..255] for integers).\n",
      "Clipping input data to the valid range for imshow with RGB data ([0..1] for floats or [0..255] for integers).\n",
      "Clipping input data to the valid range for imshow with RGB data ([0..1] for floats or [0..255] for integers).\n",
      "Clipping input data to the valid range for imshow with RGB data ([0..1] for floats or [0..255] for integers).\n",
      "Clipping input data to the valid range for imshow with RGB data ([0..1] for floats or [0..255] for integers).\n",
      "Clipping input data to the valid range for imshow with RGB data ([0..1] for floats or [0..255] for integers).\n",
      "Clipping input data to the valid range for imshow with RGB data ([0..1] for floats or [0..255] for integers).\n",
      "Clipping input data to the valid range for imshow with RGB data ([0..1] for floats or [0..255] for integers).\n",
      "Clipping input data to the valid range for imshow with RGB data ([0..1] for floats or [0..255] for integers).\n",
      "Clipping input data to the valid range for imshow with RGB data ([0..1] for floats or [0..255] for integers).\n",
      "Clipping input data to the valid range for imshow with RGB data ([0..1] for floats or [0..255] for integers).\n",
      "Clipping input data to the valid range for imshow with RGB data ([0..1] for floats or [0..255] for integers).\n",
      "Clipping input data to the valid range for imshow with RGB data ([0..1] for floats or [0..255] for integers).\n",
      "Clipping input data to the valid range for imshow with RGB data ([0..1] for floats or [0..255] for integers).\n",
      "Clipping input data to the valid range for imshow with RGB data ([0..1] for floats or [0..255] for integers).\n",
      "Clipping input data to the valid range for imshow with RGB data ([0..1] for floats or [0..255] for integers).\n",
      "Clipping input data to the valid range for imshow with RGB data ([0..1] for floats or [0..255] for integers).\n",
      "Clipping input data to the valid range for imshow with RGB data ([0..1] for floats or [0..255] for integers).\n",
      "Clipping input data to the valid range for imshow with RGB data ([0..1] for floats or [0..255] for integers).\n",
      "Clipping input data to the valid range for imshow with RGB data ([0..1] for floats or [0..255] for integers).\n",
      "Clipping input data to the valid range for imshow with RGB data ([0..1] for floats or [0..255] for integers).\n",
      "Clipping input data to the valid range for imshow with RGB data ([0..1] for floats or [0..255] for integers).\n"
     ]
    },
    {
     "name": "stdout",
     "output_type": "stream",
     "text": [
      "Feature Extraction..........................\n"
     ]
    },
    {
     "name": "stderr",
     "output_type": "stream",
     "text": [
      "Clipping input data to the valid range for imshow with RGB data ([0..1] for floats or [0..255] for integers).\n"
     ]
    },
    {
     "name": "stdout",
     "output_type": "stream",
     "text": [
      "r------------- :  459\n",
      "r------------- :  460\n",
      "r------------- :  461\n",
      "r------------- :  462\n",
      "r------------- :  463\n",
      "r------------- :  464\n",
      "r------------- :  465\n",
      "r------------- :  466\n",
      "r------------- :  467\n",
      "r------------- :  468\n",
      "r------------- :  469\n",
      "r------------- :  470\n",
      "r------------- :  471\n",
      "r------------- :  472\n",
      "r------------- :  473\n",
      "r------------- :  474\n",
      "r------------- :  475\n",
      "r------------- :  476\n",
      "r------------- :  477\n",
      "r------------- :  478\n",
      "r------------- :  479\n",
      "r------------- :  480\n",
      "r------------- :  481\n",
      "r------------- :  482\n",
      "r------------- :  483\n",
      "r------------- :  484\n",
      "r------------- :  485\n",
      "r------------- :  486\n",
      "r------------- :  487\n",
      "r------------- :  488\n",
      "r------------- :  489\n",
      "r------------- :  490\n",
      "r------------- :  491\n",
      "r------------- :  492\n",
      "r------------- :  493\n",
      "r------------- :  494\n",
      "r------------- :  495\n",
      "r------------- :  496\n",
      "r------------- :  497\n",
      "r------------- :  498\n",
      "r------------- :  499\n",
      "r------------- :  500\n",
      "r------------- :  501\n",
      "r------------- :  502\n",
      "r------------- :  503\n",
      "r------------- :  504\n",
      "r------------- :  505\n",
      "r------------- :  506\n",
      "r------------- :  507\n",
      "r------------- :  508\n",
      "r------------- :  509\n",
      "r------------- :  510\n",
      "r------------- :  511\n",
      "r------------- :  512\n",
      "r------------- :  513\n",
      "r------------- :  514\n",
      "r------------- :  515\n",
      "r------------- :  516\n",
      "r------------- :  517\n",
      "r------------- :  518\n",
      "r------------- :  519\n",
      "r------------- :  520\n",
      "r------------- :  521\n",
      "r------------- :  522\n",
      "r------------- :  523\n",
      "r------------- :  524\n",
      "generate spectrograms\n",
      "No of CPUs : 24\n",
      "Feature Extraction..........................\n",
      "Feature Extraction..........................\n",
      "Feature Extraction..........................\n",
      "Feature Extraction..........................\n",
      "Feature Extraction..........................\n",
      "Feature Extraction..........................\n",
      "Feature Extraction..........................Feature Extraction..........................\n",
      "Feature Extraction..........................\n",
      "\n",
      "Feature Extraction..........................Feature Extraction..........................\n",
      "\n",
      "Feature Extraction..........................Feature Extraction..........................\n",
      "\n",
      "Feature Extraction..........................\n",
      "Feature Extraction..........................\n",
      "Feature Extraction..........................Feature Extraction..........................\n",
      "\n",
      "Feature Extraction..........................Feature Extraction..........................\n",
      "\n",
      "Feature Extraction..........................\n",
      "Feature Extraction..........................\n",
      "Feature Extraction..........................Feature Extraction..........................\n",
      "Feature Extraction..........................\n",
      "\n"
     ]
    },
    {
     "name": "stderr",
     "output_type": "stream",
     "text": [
      "Clipping input data to the valid range for imshow with RGB data ([0..1] for floats or [0..255] for integers).\n",
      "Clipping input data to the valid range for imshow with RGB data ([0..1] for floats or [0..255] for integers).\n",
      "Clipping input data to the valid range for imshow with RGB data ([0..1] for floats or [0..255] for integers).\n",
      "Clipping input data to the valid range for imshow with RGB data ([0..1] for floats or [0..255] for integers).\n",
      "Clipping input data to the valid range for imshow with RGB data ([0..1] for floats or [0..255] for integers).\n",
      "Clipping input data to the valid range for imshow with RGB data ([0..1] for floats or [0..255] for integers).\n",
      "Clipping input data to the valid range for imshow with RGB data ([0..1] for floats or [0..255] for integers).\n",
      "Clipping input data to the valid range for imshow with RGB data ([0..1] for floats or [0..255] for integers).\n",
      "Clipping input data to the valid range for imshow with RGB data ([0..1] for floats or [0..255] for integers).\n",
      "Clipping input data to the valid range for imshow with RGB data ([0..1] for floats or [0..255] for integers).\n",
      "Clipping input data to the valid range for imshow with RGB data ([0..1] for floats or [0..255] for integers).\n",
      "Clipping input data to the valid range for imshow with RGB data ([0..1] for floats or [0..255] for integers).\n",
      "Clipping input data to the valid range for imshow with RGB data ([0..1] for floats or [0..255] for integers).\n",
      "Clipping input data to the valid range for imshow with RGB data ([0..1] for floats or [0..255] for integers).\n",
      "Clipping input data to the valid range for imshow with RGB data ([0..1] for floats or [0..255] for integers).\n",
      "Clipping input data to the valid range for imshow with RGB data ([0..1] for floats or [0..255] for integers).\n",
      "Clipping input data to the valid range for imshow with RGB data ([0..1] for floats or [0..255] for integers).\n",
      "Clipping input data to the valid range for imshow with RGB data ([0..1] for floats or [0..255] for integers).\n",
      "Clipping input data to the valid range for imshow with RGB data ([0..1] for floats or [0..255] for integers).\n",
      "Clipping input data to the valid range for imshow with RGB data ([0..1] for floats or [0..255] for integers).\n",
      "Clipping input data to the valid range for imshow with RGB data ([0..1] for floats or [0..255] for integers).\n",
      "Clipping input data to the valid range for imshow with RGB data ([0..1] for floats or [0..255] for integers).\n",
      "Clipping input data to the valid range for imshow with RGB data ([0..1] for floats or [0..255] for integers).\n",
      "Clipping input data to the valid range for imshow with RGB data ([0..1] for floats or [0..255] for integers).\n"
     ]
    },
    {
     "name": "stdout",
     "output_type": "stream",
     "text": [
      "Feature Extraction..........................\n",
      "Feature Extraction..........................\n",
      "Feature Extraction..........................\n",
      "Feature Extraction..........................Feature Extraction..........................\n",
      "\n",
      "Feature Extraction..........................Feature Extraction..........................\n",
      "\n",
      "Feature Extraction..........................Feature Extraction..........................\n",
      "\n",
      "Feature Extraction..........................Feature Extraction..........................\n",
      "\n",
      "Feature Extraction..........................Feature Extraction..........................\n",
      "\n",
      "Feature Extraction..........................\n",
      "Feature Extraction..........................\n",
      "Feature Extraction..........................\n",
      "Feature Extraction..........................\n",
      "Feature Extraction..........................Feature Extraction..........................\n",
      "\n",
      "Feature Extraction..........................\n",
      "Feature Extraction..........................Feature Extraction..........................Feature Extraction..........................Feature Extraction..........................\n",
      "\n",
      "\n",
      "\n"
     ]
    },
    {
     "name": "stderr",
     "output_type": "stream",
     "text": [
      "Clipping input data to the valid range for imshow with RGB data ([0..1] for floats or [0..255] for integers).\n",
      "Clipping input data to the valid range for imshow with RGB data ([0..1] for floats or [0..255] for integers).\n",
      "Clipping input data to the valid range for imshow with RGB data ([0..1] for floats or [0..255] for integers).\n",
      "Clipping input data to the valid range for imshow with RGB data ([0..1] for floats or [0..255] for integers).\n",
      "Clipping input data to the valid range for imshow with RGB data ([0..1] for floats or [0..255] for integers).\n",
      "Clipping input data to the valid range for imshow with RGB data ([0..1] for floats or [0..255] for integers).\n",
      "Clipping input data to the valid range for imshow with RGB data ([0..1] for floats or [0..255] for integers).\n",
      "Clipping input data to the valid range for imshow with RGB data ([0..1] for floats or [0..255] for integers).\n",
      "Clipping input data to the valid range for imshow with RGB data ([0..1] for floats or [0..255] for integers).\n",
      "Clipping input data to the valid range for imshow with RGB data ([0..1] for floats or [0..255] for integers).\n",
      "Clipping input data to the valid range for imshow with RGB data ([0..1] for floats or [0..255] for integers).\n",
      "Clipping input data to the valid range for imshow with RGB data ([0..1] for floats or [0..255] for integers).\n",
      "Clipping input data to the valid range for imshow with RGB data ([0..1] for floats or [0..255] for integers).\n",
      "Clipping input data to the valid range for imshow with RGB data ([0..1] for floats or [0..255] for integers).\n",
      "Clipping input data to the valid range for imshow with RGB data ([0..1] for floats or [0..255] for integers).\n",
      "Clipping input data to the valid range for imshow with RGB data ([0..1] for floats or [0..255] for integers).\n",
      "Clipping input data to the valid range for imshow with RGB data ([0..1] for floats or [0..255] for integers).\n",
      "Clipping input data to the valid range for imshow with RGB data ([0..1] for floats or [0..255] for integers).\n",
      "Clipping input data to the valid range for imshow with RGB data ([0..1] for floats or [0..255] for integers).\n",
      "Clipping input data to the valid range for imshow with RGB data ([0..1] for floats or [0..255] for integers).\n",
      "Clipping input data to the valid range for imshow with RGB data ([0..1] for floats or [0..255] for integers).\n",
      "Clipping input data to the valid range for imshow with RGB data ([0..1] for floats or [0..255] for integers).\n",
      "Clipping input data to the valid range for imshow with RGB data ([0..1] for floats or [0..255] for integers).\n",
      "Clipping input data to the valid range for imshow with RGB data ([0..1] for floats or [0..255] for integers).\n"
     ]
    },
    {
     "name": "stdout",
     "output_type": "stream",
     "text": [
      "Feature Extraction..........................\n",
      "Feature Extraction..........................\n",
      "Feature Extraction..........................\n",
      "Feature Extraction..........................Feature Extraction..........................\n",
      "\n",
      "Feature Extraction..........................Feature Extraction..........................\n",
      "\n",
      "Feature Extraction..........................Feature Extraction..........................\n",
      "\n",
      "Feature Extraction..........................\n",
      "Feature Extraction..........................\n",
      "Feature Extraction..........................Feature Extraction..........................\n",
      "\n",
      "Feature Extraction..........................Feature Extraction..........................\n",
      "\n",
      "Feature Extraction..........................Feature Extraction..........................\n",
      "\n",
      "Feature Extraction..........................\n"
     ]
    },
    {
     "name": "stderr",
     "output_type": "stream",
     "text": [
      "Clipping input data to the valid range for imshow with RGB data ([0..1] for floats or [0..255] for integers).\n",
      "Clipping input data to the valid range for imshow with RGB data ([0..1] for floats or [0..255] for integers).\n",
      "Clipping input data to the valid range for imshow with RGB data ([0..1] for floats or [0..255] for integers).\n",
      "Clipping input data to the valid range for imshow with RGB data ([0..1] for floats or [0..255] for integers).\n",
      "Clipping input data to the valid range for imshow with RGB data ([0..1] for floats or [0..255] for integers).\n",
      "Clipping input data to the valid range for imshow with RGB data ([0..1] for floats or [0..255] for integers).\n",
      "Clipping input data to the valid range for imshow with RGB data ([0..1] for floats or [0..255] for integers).\n",
      "Clipping input data to the valid range for imshow with RGB data ([0..1] for floats or [0..255] for integers).\n",
      "Clipping input data to the valid range for imshow with RGB data ([0..1] for floats or [0..255] for integers).\n",
      "Clipping input data to the valid range for imshow with RGB data ([0..1] for floats or [0..255] for integers).\n",
      "Clipping input data to the valid range for imshow with RGB data ([0..1] for floats or [0..255] for integers).\n",
      "Clipping input data to the valid range for imshow with RGB data ([0..1] for floats or [0..255] for integers).\n",
      "Clipping input data to the valid range for imshow with RGB data ([0..1] for floats or [0..255] for integers).\n",
      "Clipping input data to the valid range for imshow with RGB data ([0..1] for floats or [0..255] for integers).\n",
      "Clipping input data to the valid range for imshow with RGB data ([0..1] for floats or [0..255] for integers).\n",
      "Clipping input data to the valid range for imshow with RGB data ([0..1] for floats or [0..255] for integers).\n",
      "Clipping input data to the valid range for imshow with RGB data ([0..1] for floats or [0..255] for integers).\n",
      "Clipping input data to the valid range for imshow with RGB data ([0..1] for floats or [0..255] for integers).\n"
     ]
    },
    {
     "name": "stdout",
     "output_type": "stream",
     "text": [
      "r------------- :  525\n",
      "generate spectrograms\n",
      "No of CPUs : 24\n",
      "Feature Extraction..........................\n"
     ]
    },
    {
     "name": "stderr",
     "output_type": "stream",
     "text": [
      "Clipping input data to the valid range for imshow with RGB data ([0..1] for floats or [0..255] for integers).\n"
     ]
    },
    {
     "name": "stdout",
     "output_type": "stream",
     "text": [
      "r------------- :  526\n",
      "r------------- :  527\n",
      "r------------- :  528\n",
      "r------------- :  529\n",
      "r------------- :  530\n",
      "r------------- :  531\n",
      "r------------- :  532\n",
      "r------------- :  533\n",
      "r------------- :  534\n",
      "r------------- :  535\n",
      "r------------- :  536\n",
      "r------------- :  537\n",
      "r------------- :  538\n",
      "r------------- :  539\n",
      "r------------- :  540\n",
      "r------------- :  541\n",
      "r------------- :  542\n",
      "r------------- :  543\n",
      "r------------- :  544\n",
      "r------------- :  545\n",
      "r------------- :  546\n",
      "r------------- :  547\n",
      "r------------- :  548\n",
      "r------------- :  549\n",
      "r------------- :  550\n",
      "r------------- :  551\n",
      "r------------- :  552\n",
      "r------------- :  553\n",
      "r------------- :  554\n",
      "r------------- :  555\n",
      "r------------- :  556\n",
      "r------------- :  557\n",
      "r------------- :  558\n",
      "r------------- :  559\n",
      "r------------- :  560\n",
      "r------------- :  561\n",
      "r------------- :  562\n",
      "r------------- :  563\n",
      "r------------- :  564\n",
      "r------------- :  565\n",
      "r------------- :  566\n",
      "r------------- :  567\n",
      "r------------- :  568\n",
      "r------------- :  569\n",
      "r------------- :  570\n",
      "r------------- :  571\n",
      "r------------- :  572\n",
      "r------------- :  573\n",
      "r------------- :  574\n",
      "r------------- :  575\n",
      "r------------- :  576\n",
      "r------------- :  577\n",
      "r------------- :  578\n",
      "r------------- :  579\n",
      "r------------- :  580\n",
      "r------------- :  581\n",
      "r------------- :  582\n",
      "r------------- :  583\n",
      "r------------- :  584\n",
      "r------------- :  585\n",
      "r------------- :  586\n",
      "r------------- :  587\n",
      "r------------- :  588\n",
      "r------------- :  589\n",
      "r------------- :  590\n",
      "r------------- :  591\n",
      "r------------- :  592\n",
      "r------------- :  593\n",
      "r------------- :  594\n",
      "r------------- :  595\n",
      "r------------- :  596\n",
      "r------------- :  597\n",
      "r------------- :  598\n",
      "r------------- :  599\n",
      "r------------- :  600\n",
      "r------------- :  601\n",
      "r------------- :  602\n",
      "r------------- :  603\n",
      "r------------- :  604\n",
      "r------------- :  605\n",
      "r------------- :  606\n",
      "r------------- :  607\n",
      "r------------- :  608\n",
      "r------------- :  609\n",
      "r------------- :  610\n",
      "r------------- :  611\n",
      "r------------- :  612\n",
      "r------------- :  613\n",
      "r------------- :  614\n",
      "r------------- :  615\n",
      "r------------- :  616\n",
      "r------------- :  617\n",
      "r------------- :  618\n",
      "r------------- :  619\n",
      "r------------- :  620\n",
      "r------------- :  621\n",
      "r------------- :  622\n",
      "r------------- :  623\n",
      "r------------- :  624\n",
      "r------------- :  625\n",
      "r------------- :  626\n",
      "r------------- :  627\n",
      "r------------- :  628\n",
      "r------------- :  629\n",
      "r------------- :  630\n",
      "r------------- :  631\n",
      "r------------- :  632\n",
      "r------------- :  633\n",
      "r------------- :  634\n",
      "r------------- :  635\n",
      "r------------- :  636\n",
      "r------------- :  637\n",
      "r------------- :  638\n",
      "r------------- :  639\n",
      "r------------- :  640\n",
      "r------------- :  641\n",
      "r------------- :  642\n",
      "r------------- :  643\n",
      "r------------- :  644\n",
      "r------------- :  645\n",
      "r------------- :  646\n",
      "r------------- :  647\n",
      "r------------- :  648\n",
      "generate spectrograms\n",
      "No of CPUs : 24\n",
      "Feature Extraction..........................\n",
      "Feature Extraction..........................\n",
      "Feature Extraction..........................\n",
      "Feature Extraction..........................\n",
      "Feature Extraction..........................\n",
      "Feature Extraction..........................Feature Extraction..........................\n",
      "\n",
      "Feature Extraction..........................Feature Extraction..........................\n",
      "\n",
      "Feature Extraction..........................\n",
      "Feature Extraction..........................\n",
      "Feature Extraction..........................\n",
      "Feature Extraction..........................\n",
      "Feature Extraction..........................\n",
      "Feature Extraction..........................\n",
      "Feature Extraction..........................\n",
      "Feature Extraction..........................\n",
      "Feature Extraction..........................\n",
      "Feature Extraction..........................\n",
      "Feature Extraction..........................\n",
      "Feature Extraction..........................\n",
      "Feature Extraction..........................\n",
      "Feature Extraction..........................Feature Extraction..........................\n",
      "\n"
     ]
    },
    {
     "name": "stderr",
     "output_type": "stream",
     "text": [
      "Clipping input data to the valid range for imshow with RGB data ([0..1] for floats or [0..255] for integers).\n",
      "Clipping input data to the valid range for imshow with RGB data ([0..1] for floats or [0..255] for integers).\n",
      "Clipping input data to the valid range for imshow with RGB data ([0..1] for floats or [0..255] for integers).\n",
      "Clipping input data to the valid range for imshow with RGB data ([0..1] for floats or [0..255] for integers).\n",
      "Clipping input data to the valid range for imshow with RGB data ([0..1] for floats or [0..255] for integers).\n",
      "Clipping input data to the valid range for imshow with RGB data ([0..1] for floats or [0..255] for integers).\n",
      "Clipping input data to the valid range for imshow with RGB data ([0..1] for floats or [0..255] for integers).\n",
      "Clipping input data to the valid range for imshow with RGB data ([0..1] for floats or [0..255] for integers).\n",
      "Clipping input data to the valid range for imshow with RGB data ([0..1] for floats or [0..255] for integers).\n",
      "Clipping input data to the valid range for imshow with RGB data ([0..1] for floats or [0..255] for integers).\n",
      "Clipping input data to the valid range for imshow with RGB data ([0..1] for floats or [0..255] for integers).\n",
      "Clipping input data to the valid range for imshow with RGB data ([0..1] for floats or [0..255] for integers).\n",
      "Clipping input data to the valid range for imshow with RGB data ([0..1] for floats or [0..255] for integers).\n",
      "Clipping input data to the valid range for imshow with RGB data ([0..1] for floats or [0..255] for integers).\n",
      "Clipping input data to the valid range for imshow with RGB data ([0..1] for floats or [0..255] for integers).\n",
      "Clipping input data to the valid range for imshow with RGB data ([0..1] for floats or [0..255] for integers).\n",
      "Clipping input data to the valid range for imshow with RGB data ([0..1] for floats or [0..255] for integers).\n",
      "Clipping input data to the valid range for imshow with RGB data ([0..1] for floats or [0..255] for integers).\n",
      "Clipping input data to the valid range for imshow with RGB data ([0..1] for floats or [0..255] for integers).\n",
      "Clipping input data to the valid range for imshow with RGB data ([0..1] for floats or [0..255] for integers).\n",
      "Clipping input data to the valid range for imshow with RGB data ([0..1] for floats or [0..255] for integers).\n",
      "Clipping input data to the valid range for imshow with RGB data ([0..1] for floats or [0..255] for integers).\n",
      "Clipping input data to the valid range for imshow with RGB data ([0..1] for floats or [0..255] for integers).\n",
      "Clipping input data to the valid range for imshow with RGB data ([0..1] for floats or [0..255] for integers).\n"
     ]
    },
    {
     "name": "stdout",
     "output_type": "stream",
     "text": [
      "Feature Extraction..........................\n",
      "Feature Extraction..........................\n",
      "Feature Extraction..........................\n",
      "Feature Extraction..........................\n",
      "Feature Extraction..........................\n",
      "Feature Extraction..........................Feature Extraction..........................\n",
      "\n",
      "Feature Extraction..........................\n",
      "Feature Extraction..........................\n",
      "Feature Extraction..........................\n",
      "Feature Extraction..........................Feature Extraction..........................\n",
      "\n",
      "Feature Extraction..........................Feature Extraction..........................\n",
      "\n",
      "Feature Extraction..........................\n",
      "Feature Extraction..........................\n",
      "Feature Extraction..........................\n",
      "Feature Extraction..........................\n",
      "Feature Extraction..........................\n",
      "Feature Extraction..........................\n",
      "Feature Extraction..........................\n",
      "Feature Extraction..........................Feature Extraction..........................\n",
      "Feature Extraction..........................\n",
      "\n"
     ]
    },
    {
     "name": "stderr",
     "output_type": "stream",
     "text": [
      "Clipping input data to the valid range for imshow with RGB data ([0..1] for floats or [0..255] for integers).\n",
      "Clipping input data to the valid range for imshow with RGB data ([0..1] for floats or [0..255] for integers).\n",
      "Clipping input data to the valid range for imshow with RGB data ([0..1] for floats or [0..255] for integers).\n",
      "Clipping input data to the valid range for imshow with RGB data ([0..1] for floats or [0..255] for integers).\n",
      "Clipping input data to the valid range for imshow with RGB data ([0..1] for floats or [0..255] for integers).\n",
      "Clipping input data to the valid range for imshow with RGB data ([0..1] for floats or [0..255] for integers).\n",
      "Clipping input data to the valid range for imshow with RGB data ([0..1] for floats or [0..255] for integers).\n",
      "Clipping input data to the valid range for imshow with RGB data ([0..1] for floats or [0..255] for integers).\n",
      "Clipping input data to the valid range for imshow with RGB data ([0..1] for floats or [0..255] for integers).\n",
      "Clipping input data to the valid range for imshow with RGB data ([0..1] for floats or [0..255] for integers).\n",
      "Clipping input data to the valid range for imshow with RGB data ([0..1] for floats or [0..255] for integers).\n",
      "Clipping input data to the valid range for imshow with RGB data ([0..1] for floats or [0..255] for integers).\n",
      "Clipping input data to the valid range for imshow with RGB data ([0..1] for floats or [0..255] for integers).\n",
      "Clipping input data to the valid range for imshow with RGB data ([0..1] for floats or [0..255] for integers).\n",
      "Clipping input data to the valid range for imshow with RGB data ([0..1] for floats or [0..255] for integers).\n",
      "Clipping input data to the valid range for imshow with RGB data ([0..1] for floats or [0..255] for integers).\n",
      "Clipping input data to the valid range for imshow with RGB data ([0..1] for floats or [0..255] for integers).\n",
      "Clipping input data to the valid range for imshow with RGB data ([0..1] for floats or [0..255] for integers).\n",
      "Clipping input data to the valid range for imshow with RGB data ([0..1] for floats or [0..255] for integers).\n",
      "Clipping input data to the valid range for imshow with RGB data ([0..1] for floats or [0..255] for integers).\n",
      "Clipping input data to the valid range for imshow with RGB data ([0..1] for floats or [0..255] for integers).\n",
      "Clipping input data to the valid range for imshow with RGB data ([0..1] for floats or [0..255] for integers).\n",
      "Clipping input data to the valid range for imshow with RGB data ([0..1] for floats or [0..255] for integers).\n",
      "Clipping input data to the valid range for imshow with RGB data ([0..1] for floats or [0..255] for integers).\n"
     ]
    },
    {
     "name": "stdout",
     "output_type": "stream",
     "text": [
      "Feature Extraction..........................\n",
      "Feature Extraction..........................\n",
      "Feature Extraction..........................\n",
      "Feature Extraction..........................\n",
      "Feature Extraction..........................Feature Extraction..........................Feature Extraction..........................\n",
      "\n",
      "\n",
      "Feature Extraction..........................\n",
      "Feature Extraction..........................Feature Extraction..........................\n",
      "\n",
      "Feature Extraction..........................\n",
      "Feature Extraction..........................\n",
      "Feature Extraction..........................Feature Extraction..........................\n",
      "\n",
      "Feature Extraction..........................\n",
      "Feature Extraction..........................\n",
      "Feature Extraction..........................Feature Extraction..........................\n",
      "\n",
      "Feature Extraction..........................\n",
      "Feature Extraction..........................\n",
      "Feature Extraction..........................\n",
      "Feature Extraction..........................Feature Extraction..........................Feature Extraction..........................\n",
      "\n",
      "\n"
     ]
    },
    {
     "name": "stderr",
     "output_type": "stream",
     "text": [
      "Clipping input data to the valid range for imshow with RGB data ([0..1] for floats or [0..255] for integers).\n",
      "Clipping input data to the valid range for imshow with RGB data ([0..1] for floats or [0..255] for integers).\n",
      "Clipping input data to the valid range for imshow with RGB data ([0..1] for floats or [0..255] for integers).\n",
      "Clipping input data to the valid range for imshow with RGB data ([0..1] for floats or [0..255] for integers).\n",
      "Clipping input data to the valid range for imshow with RGB data ([0..1] for floats or [0..255] for integers).\n",
      "Clipping input data to the valid range for imshow with RGB data ([0..1] for floats or [0..255] for integers).\n",
      "Clipping input data to the valid range for imshow with RGB data ([0..1] for floats or [0..255] for integers).\n",
      "Clipping input data to the valid range for imshow with RGB data ([0..1] for floats or [0..255] for integers).\n",
      "Clipping input data to the valid range for imshow with RGB data ([0..1] for floats or [0..255] for integers).\n",
      "Clipping input data to the valid range for imshow with RGB data ([0..1] for floats or [0..255] for integers).\n",
      "Clipping input data to the valid range for imshow with RGB data ([0..1] for floats or [0..255] for integers).\n",
      "Clipping input data to the valid range for imshow with RGB data ([0..1] for floats or [0..255] for integers).\n",
      "Clipping input data to the valid range for imshow with RGB data ([0..1] for floats or [0..255] for integers).\n",
      "Clipping input data to the valid range for imshow with RGB data ([0..1] for floats or [0..255] for integers).\n",
      "Clipping input data to the valid range for imshow with RGB data ([0..1] for floats or [0..255] for integers).\n",
      "Clipping input data to the valid range for imshow with RGB data ([0..1] for floats or [0..255] for integers).\n",
      "Clipping input data to the valid range for imshow with RGB data ([0..1] for floats or [0..255] for integers).\n",
      "Clipping input data to the valid range for imshow with RGB data ([0..1] for floats or [0..255] for integers).\n",
      "Clipping input data to the valid range for imshow with RGB data ([0..1] for floats or [0..255] for integers).\n",
      "Clipping input data to the valid range for imshow with RGB data ([0..1] for floats or [0..255] for integers).\n",
      "Clipping input data to the valid range for imshow with RGB data ([0..1] for floats or [0..255] for integers).\n",
      "Clipping input data to the valid range for imshow with RGB data ([0..1] for floats or [0..255] for integers).\n",
      "Clipping input data to the valid range for imshow with RGB data ([0..1] for floats or [0..255] for integers).\n",
      "Clipping input data to the valid range for imshow with RGB data ([0..1] for floats or [0..255] for integers).\n"
     ]
    },
    {
     "name": "stdout",
     "output_type": "stream",
     "text": [
      "Feature Extraction..........................\n",
      "Feature Extraction..........................\n",
      "Feature Extraction..........................\n",
      "Feature Extraction..........................\n",
      "Feature Extraction..........................Feature Extraction..........................\n",
      "Feature Extraction..........................\n",
      "\n",
      "Feature Extraction..........................\n",
      "Feature Extraction..........................Feature Extraction..........................Feature Extraction..........................\n",
      "\n",
      "\n",
      "Feature Extraction..........................\n",
      "Feature Extraction..........................\n",
      "Feature Extraction..........................\n",
      "Feature Extraction..........................\n",
      "Feature Extraction..........................Feature Extraction..........................\n",
      "Feature Extraction..........................\n",
      "\n",
      "Feature Extraction..........................Feature Extraction..........................\n",
      "\n",
      "Feature Extraction..........................Feature Extraction..........................\n",
      "\n",
      "Feature Extraction..........................Feature Extraction..........................\n",
      "\n"
     ]
    },
    {
     "name": "stderr",
     "output_type": "stream",
     "text": [
      "Clipping input data to the valid range for imshow with RGB data ([0..1] for floats or [0..255] for integers).\n",
      "Clipping input data to the valid range for imshow with RGB data ([0..1] for floats or [0..255] for integers).\n",
      "Clipping input data to the valid range for imshow with RGB data ([0..1] for floats or [0..255] for integers).\n",
      "Clipping input data to the valid range for imshow with RGB data ([0..1] for floats or [0..255] for integers).\n",
      "Clipping input data to the valid range for imshow with RGB data ([0..1] for floats or [0..255] for integers).\n",
      "Clipping input data to the valid range for imshow with RGB data ([0..1] for floats or [0..255] for integers).\n",
      "Clipping input data to the valid range for imshow with RGB data ([0..1] for floats or [0..255] for integers).\n",
      "Clipping input data to the valid range for imshow with RGB data ([0..1] for floats or [0..255] for integers).\n",
      "Clipping input data to the valid range for imshow with RGB data ([0..1] for floats or [0..255] for integers).\n",
      "Clipping input data to the valid range for imshow with RGB data ([0..1] for floats or [0..255] for integers).\n",
      "Clipping input data to the valid range for imshow with RGB data ([0..1] for floats or [0..255] for integers).\n",
      "Clipping input data to the valid range for imshow with RGB data ([0..1] for floats or [0..255] for integers).\n",
      "Clipping input data to the valid range for imshow with RGB data ([0..1] for floats or [0..255] for integers).\n",
      "Clipping input data to the valid range for imshow with RGB data ([0..1] for floats or [0..255] for integers).\n",
      "Clipping input data to the valid range for imshow with RGB data ([0..1] for floats or [0..255] for integers).\n",
      "Clipping input data to the valid range for imshow with RGB data ([0..1] for floats or [0..255] for integers).\n",
      "Clipping input data to the valid range for imshow with RGB data ([0..1] for floats or [0..255] for integers).\n",
      "Clipping input data to the valid range for imshow with RGB data ([0..1] for floats or [0..255] for integers).\n",
      "Clipping input data to the valid range for imshow with RGB data ([0..1] for floats or [0..255] for integers).\n",
      "Clipping input data to the valid range for imshow with RGB data ([0..1] for floats or [0..255] for integers).\n",
      "Clipping input data to the valid range for imshow with RGB data ([0..1] for floats or [0..255] for integers).\n",
      "Clipping input data to the valid range for imshow with RGB data ([0..1] for floats or [0..255] for integers).\n",
      "Clipping input data to the valid range for imshow with RGB data ([0..1] for floats or [0..255] for integers).\n",
      "Clipping input data to the valid range for imshow with RGB data ([0..1] for floats or [0..255] for integers).\n"
     ]
    },
    {
     "name": "stdout",
     "output_type": "stream",
     "text": [
      "Feature Extraction..........................\n",
      "Feature Extraction..........................Feature Extraction..........................Feature Extraction..........................\n",
      "\n",
      "\n",
      "Feature Extraction..........................\n",
      "Feature Extraction..........................Feature Extraction..........................\n",
      "\n",
      "Feature Extraction..........................Feature Extraction..........................\n",
      "Feature Extraction..........................\n",
      "Feature Extraction..........................\n",
      "\n",
      "Feature Extraction..........................\n",
      "Feature Extraction..........................\n",
      "Feature Extraction..........................\n"
     ]
    },
    {
     "name": "stderr",
     "output_type": "stream",
     "text": [
      "Clipping input data to the valid range for imshow with RGB data ([0..1] for floats or [0..255] for integers).\n",
      "Clipping input data to the valid range for imshow with RGB data ([0..1] for floats or [0..255] for integers).\n",
      "Clipping input data to the valid range for imshow with RGB data ([0..1] for floats or [0..255] for integers).\n",
      "Clipping input data to the valid range for imshow with RGB data ([0..1] for floats or [0..255] for integers).\n",
      "Clipping input data to the valid range for imshow with RGB data ([0..1] for floats or [0..255] for integers).\n",
      "Clipping input data to the valid range for imshow with RGB data ([0..1] for floats or [0..255] for integers).\n",
      "Clipping input data to the valid range for imshow with RGB data ([0..1] for floats or [0..255] for integers).\n",
      "Clipping input data to the valid range for imshow with RGB data ([0..1] for floats or [0..255] for integers).\n",
      "Clipping input data to the valid range for imshow with RGB data ([0..1] for floats or [0..255] for integers).\n",
      "Clipping input data to the valid range for imshow with RGB data ([0..1] for floats or [0..255] for integers).\n",
      "Clipping input data to the valid range for imshow with RGB data ([0..1] for floats or [0..255] for integers).\n",
      "Clipping input data to the valid range for imshow with RGB data ([0..1] for floats or [0..255] for integers).\n",
      "Clipping input data to the valid range for imshow with RGB data ([0..1] for floats or [0..255] for integers).\n",
      "Clipping input data to the valid range for imshow with RGB data ([0..1] for floats or [0..255] for integers).\n"
     ]
    },
    {
     "name": "stdout",
     "output_type": "stream",
     "text": [
      "Feature Extraction..........................\n",
      "Feature Extraction..........................\n",
      "Feature Extraction..........................Feature Extraction..........................\n",
      "\n",
      "Feature Extraction..........................\n",
      "Feature Extraction..........................Feature Extraction..........................Feature Extraction..........................\n",
      "Feature Extraction..........................Feature Extraction..........................\n",
      "\n",
      "\n",
      "\n",
      "Feature Extraction..........................\n",
      "Feature Extraction..........................\n",
      "Feature Extraction..........................\n"
     ]
    },
    {
     "name": "stderr",
     "output_type": "stream",
     "text": [
      "Clipping input data to the valid range for imshow with RGB data ([0..1] for floats or [0..255] for integers).\n",
      "Clipping input data to the valid range for imshow with RGB data ([0..1] for floats or [0..255] for integers).\n",
      "Clipping input data to the valid range for imshow with RGB data ([0..1] for floats or [0..255] for integers).\n",
      "Clipping input data to the valid range for imshow with RGB data ([0..1] for floats or [0..255] for integers).\n",
      "Clipping input data to the valid range for imshow with RGB data ([0..1] for floats or [0..255] for integers).\n",
      "Clipping input data to the valid range for imshow with RGB data ([0..1] for floats or [0..255] for integers).\n",
      "Clipping input data to the valid range for imshow with RGB data ([0..1] for floats or [0..255] for integers).\n",
      "Clipping input data to the valid range for imshow with RGB data ([0..1] for floats or [0..255] for integers).\n",
      "Clipping input data to the valid range for imshow with RGB data ([0..1] for floats or [0..255] for integers).\n",
      "Clipping input data to the valid range for imshow with RGB data ([0..1] for floats or [0..255] for integers).\n",
      "Clipping input data to the valid range for imshow with RGB data ([0..1] for floats or [0..255] for integers).\n",
      "Clipping input data to the valid range for imshow with RGB data ([0..1] for floats or [0..255] for integers).\n",
      "Clipping input data to the valid range for imshow with RGB data ([0..1] for floats or [0..255] for integers).\n"
     ]
    },
    {
     "name": "stdout",
     "output_type": "stream",
     "text": [
      "r------------- :  649\n",
      "r------------- :  650\n",
      "r------------- :  651\n",
      "r------------- :  652\n",
      "r------------- :  653\n",
      "r------------- :  654\n",
      "r------------- :  655\n",
      "r------------- :  656\n",
      "r------------- :  657\n",
      "r------------- :  658\n",
      "r------------- :  659\n",
      "r------------- :  660\n",
      "r------------- :  661\n",
      "r------------- :  662\n",
      "r------------- :  663\n",
      "r------------- :  664\n",
      "r------------- :  665\n",
      "r------------- :  666\n",
      "r------------- :  667\n",
      "r------------- :  668\n",
      "r------------- :  669\n",
      "r------------- :  670\n",
      "r------------- :  671\n",
      "r------------- :  672\n",
      "r------------- :  673\n",
      "r------------- :  674\n",
      "r------------- :  675\n",
      "r------------- :  676\n",
      "r------------- :  677\n",
      "r------------- :  678\n",
      "r------------- :  679\n",
      "r------------- :  680\n",
      "r------------- :  681\n",
      "r------------- :  682\n",
      "r------------- :  683\n",
      "r------------- :  684\n",
      "r------------- :  685\n",
      "r------------- :  686\n",
      "r------------- :  687\n",
      "r------------- :  688\n",
      "r------------- :  689\n",
      "r------------- :  690\n",
      "r------------- :  691\n",
      "r------------- :  692\n",
      "r------------- :  693\n",
      "r------------- :  694\n",
      "r------------- :  695\n",
      "r------------- :  696\n",
      "r------------- :  697\n",
      "r------------- :  698\n",
      "r------------- :  699\n",
      "r------------- :  700\n",
      "r------------- :  701\n",
      "r------------- :  702\n",
      "r------------- :  703\n",
      "r------------- :  704\n",
      "r------------- :  705\n",
      "r------------- :  706\n",
      "r------------- :  707\n",
      "r------------- :  708\n",
      "r------------- :  709\n",
      "r------------- :  710\n",
      "r------------- :  711\n",
      "r------------- :  712\n",
      "r------------- :  713\n",
      "r------------- :  714\n",
      "r------------- :  715\n",
      "r------------- :  716\n",
      "r------------- :  717\n",
      "r------------- :  718\n",
      "r------------- :  719\n",
      "r------------- :  720\n",
      "r------------- :  721\n",
      "r------------- :  722\n",
      "r------------- :  723\n",
      "r------------- :  724\n",
      "r------------- :  725\n",
      "r------------- :  726\n",
      "r------------- :  727\n",
      "r------------- :  728\n",
      "r------------- :  729\n",
      "r------------- :  730\n",
      "r------------- :  731\n",
      "r------------- :  732\n",
      "r------------- :  733\n",
      "r------------- :  734\n",
      "r------------- :  735\n",
      "r------------- :  736\n",
      "r------------- :  737\n",
      "r------------- :  738\n",
      "r------------- :  739\n",
      "r------------- :  740\n",
      "r------------- :  741\n",
      "r------------- :  742\n",
      "r------------- :  743\n",
      "r------------- :  744\n",
      "r------------- :  745\n",
      "r------------- :  746\n",
      "r------------- :  747\n",
      "r------------- :  748\n",
      "r------------- :  749\n",
      "r------------- :  750\n",
      "r------------- :  751\n",
      "r------------- :  752\n",
      "r------------- :  753\n",
      "r------------- :  754\n",
      "r------------- :  755\n",
      "r------------- :  756\n",
      "r------------- :  757\n",
      "r------------- :  758\n",
      "r------------- :  759\n",
      "r------------- :  760\n",
      "r------------- :  761\n",
      "r------------- :  762\n",
      "r------------- :  763\n",
      "r------------- :  764\n",
      "r------------- :  765\n",
      "r------------- :  766\n",
      "r------------- :  767\n",
      "r------------- :  768\n",
      "r------------- :  769\n",
      "r------------- :  770\n",
      "r------------- :  771\n",
      "r------------- :  772\n",
      "r------------- :  773\n",
      "r------------- :  774\n",
      "r------------- :  775\n",
      "r------------- :  776\n",
      "r------------- :  777\n",
      "r------------- :  778\n",
      "r------------- :  779\n",
      "r------------- :  780\n",
      "r------------- :  781\n",
      "r------------- :  782\n",
      "r------------- :  783\n",
      "r------------- :  784\n",
      "r------------- :  785\n",
      "r------------- :  786\n",
      "r------------- :  787\n",
      "r------------- :  788\n",
      "r------------- :  789\n",
      "r------------- :  790\n",
      "r------------- :  791\n",
      "r------------- :  792\n",
      "r------------- :  793\n",
      "r------------- :  794\n",
      "r------------- :  795\n",
      "r------------- :  796\n",
      "r------------- :  797\n",
      "r------------- :  798\n",
      "r------------- :  799\n",
      "r------------- :  800\n",
      "r------------- :  801\n",
      "r------------- :  802\n",
      "r------------- :  803\n",
      "r------------- :  804\n",
      "r------------- :  805\n",
      "r------------- :  806\n",
      "r------------- :  807\n",
      "r------------- :  808\n",
      "r------------- :  809\n",
      "r------------- :  810\n",
      "r------------- :  811\n",
      "r------------- :  812\n",
      "r------------- :  813\n",
      "r------------- :  814\n",
      "r------------- :  815\n",
      "r------------- :  816\n",
      "r------------- :  817\n",
      "r------------- :  818\n",
      "r------------- :  819\n",
      "r------------- :  820\n",
      "r------------- :  821\n",
      "r------------- :  822\n",
      "r------------- :  823\n",
      "r------------- :  824\n",
      "r------------- :  825\n",
      "r------------- :  826\n",
      "r------------- :  827\n",
      "r------------- :  828\n",
      "r------------- :  829\n",
      "r------------- :  830\n",
      "r------------- :  831\n",
      "r------------- :  832\n",
      "r------------- :  833\n",
      "r------------- :  834\n",
      "r------------- :  835\n",
      "r------------- :  836\n",
      "r------------- :  837\n",
      "r------------- :  838\n",
      "r------------- :  839\n",
      "r------------- :  840\n",
      "r------------- :  841\n",
      "r------------- :  842\n",
      "r------------- :  843\n",
      "r------------- :  844\n",
      "r------------- :  845\n",
      "r------------- :  846\n",
      "r------------- :  847\n",
      "r------------- :  848\n",
      "r------------- :  849\n",
      "r------------- :  850\n",
      "r------------- :  851\n",
      "r------------- :  852\n",
      "r------------- :  853\n",
      "r------------- :  854\n",
      "r------------- :  855\n",
      "r------------- :  856\n",
      "r------------- :  857\n",
      "r------------- :  858\n",
      "r------------- :  859\n",
      "r------------- :  860\n",
      "r------------- :  861\n",
      "r------------- :  862\n",
      "r------------- :  863\n",
      "r------------- :  864\n",
      "r------------- :  865\n",
      "r------------- :  866\n",
      "r------------- :  867\n",
      "r------------- :  868\n",
      "r------------- :  869\n",
      "r------------- :  870\n",
      "r------------- :  871\n",
      "r------------- :  872\n",
      "r------------- :  873\n",
      "r------------- :  874\n",
      "generate spectrograms\n",
      "No of CPUs : 24\n",
      "Feature Extraction..........................\n",
      "Feature Extraction..........................\n",
      "Feature Extraction..........................\n",
      "Feature Extraction..........................\n",
      "Feature Extraction..........................\n",
      "Feature Extraction..........................\n",
      "Feature Extraction..........................\n",
      "Feature Extraction..........................\n",
      "Feature Extraction..........................\n",
      "Feature Extraction..........................\n",
      "Feature Extraction..........................\n",
      "Feature Extraction..........................\n",
      "Feature Extraction..........................\n",
      "Feature Extraction..........................\n",
      "Feature Extraction..........................\n",
      "Feature Extraction..........................\n",
      "Feature Extraction..........................\n",
      "Feature Extraction..........................\n",
      "Feature Extraction..........................\n",
      "Feature Extraction..........................\n",
      "Feature Extraction..........................\n",
      "Feature Extraction..........................\n"
     ]
    }
   ],
   "source": [
    "\n",
    "# Main\n",
    "warnings.filterwarnings('ignore')\n",
    "start_time = time.time()\n",
    "\n",
    "group = 0\n",
    "off_classes = [] \n",
    "r = 1\n",
    "for row in df_train.itertuples():\n",
    "    \n",
    "    if group == 0:\n",
    "        group = row.eeg_id\n",
    "        off_classes = [(row.eeg_label_offset_seconds, row.expert_consensus)]\n",
    "    elif row.eeg_id == group:\n",
    "        off_classes.append((row.eeg_label_offset_seconds, row.expert_consensus))\n",
    "    elif group != row.eeg_id and group != 0:\n",
    "        \n",
    "        # get respective eeg file\n",
    "        # eeg = find_eeg(eeg_files_copy, group)\n",
    "        eeg = f\"{train_eeg_path}{str(group)}.parquet\"\n",
    "        # print(\"eeg path \",eeg)\n",
    "        \n",
    "        # read eed df\n",
    "        df_eeg = pd.read_parquet(eeg)\n",
    "        \n",
    "        \n",
    "        # Pre-Processing - Noise Removal\n",
    "        filtered_df = noise_removal(df_eeg)\n",
    "        \n",
    "        # Parallelization of Feature Extraction\n",
    "        ret = generate_spectrograms_parallel(filtered_df, group, off_classes)\n",
    "        # eeg_files_copy.remove(eeg)\n",
    "        group = row.eeg_id \n",
    "        off_classes = [(row.eeg_label_offset_seconds, row.expert_consensus)]\n",
    "    print(\"r------------- : \", r)\n",
    "    r+=1\n",
    "    \n",
    "elapsed_time = time.time() - start_time\n",
    "\n",
    "print(f\"Elapsed time : {elapsed_time}\")\n",
    "\n",
    "# Write to csv - proc time\n",
    "with open(\"proc_time.csv\", \"a+\") as pc:\n",
    "    pc.write(f'{num_cpus},{elapsed_time}\\n')\n",
    "\n"
   ]
  },
  {
   "cell_type": "markdown",
   "id": "df91797a",
   "metadata": {},
   "source": [
    "#### Generating plots for Speed up and Elapsed Time"
   ]
  },
  {
   "cell_type": "code",
   "execution_count": null,
   "id": "c22f9701-f158-45e2-8449-a3d2944d4afa",
   "metadata": {},
   "outputs": [],
   "source": [
    "df_cpu = pd.read_csv(\"proc_time.csv\")"
   ]
  },
  {
   "cell_type": "code",
   "execution_count": null,
   "id": "4333472d",
   "metadata": {},
   "outputs": [],
   "source": [
    "# No of CPUs vs Elapsed Time\n",
    "\n",
    "# Plot Num_CPUs vs Elapsed_time\n",
    "plt.plot(df_cpu['Num_CPUs'], df_cpu['Elapsed_time'], marker='o', linestyle='-')\n",
    "\n",
    "# Add labels and title\n",
    "plt.xlabel('Number of CPUs')\n",
    "plt.ylabel('Elapsed Time (seconds)')\n",
    "plt.title('Number of CPUs vs Elapsed Time')\n",
    "\n",
    "# Show plot\n",
    "plt.grid(True)\n",
    "\n",
    "plt.savefig('cpu_elapsed_time_plot.png') \n",
    "\n",
    "plt.show()\n"
   ]
  },
  {
   "cell_type": "code",
   "execution_count": null,
   "id": "3ce8fb77",
   "metadata": {},
   "outputs": [],
   "source": [
    "# Calculate speedup\n",
    "df_cpu['Speedup'] = df_cpu['Elapsed_time'][0] / df_cpu['Elapsed_time']\n",
    "\n",
    "# Plot Num_CPUs vs Elapsed_time\n",
    "plt.plot(df_cpu['Num_CPUs'], df_cpu['Speedup'], marker='o', linestyle='-')\n",
    "\n",
    "# Add labels and title\n",
    "plt.xlabel('Number of CPUs')\n",
    "plt.ylabel('Speed Up')\n",
    "plt.title('Number of CPUs vs Speed Up')\n",
    "\n",
    "# Show plot\n",
    "plt.grid(True)\n",
    "\n",
    "plt.savefig('cpu_speedup_plot.png') \n",
    "\n",
    "plt.show()\n"
   ]
  }
 ],
 "metadata": {
  "kernelspec": {
   "display_name": "Python 3 (ipykernel)",
   "language": "python",
   "name": "python3"
  },
  "language_info": {
   "codemirror_mode": {
    "name": "ipython",
    "version": 3
   },
   "file_extension": ".py",
   "mimetype": "text/x-python",
   "name": "python",
   "nbconvert_exporter": "python",
   "pygments_lexer": "ipython3",
   "version": "3.11.7"
  }
 },
 "nbformat": 4,
 "nbformat_minor": 5
}
